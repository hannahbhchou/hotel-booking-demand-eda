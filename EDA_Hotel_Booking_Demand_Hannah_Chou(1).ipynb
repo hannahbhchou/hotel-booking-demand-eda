{
 "cells": [
  {
   "cell_type": "markdown",
   "metadata": {},
   "source": [
    "# Hotel Booking Demand Analysis "
   ]
  },
  {
   "cell_type": "markdown",
   "metadata": {},
   "source": [
    "<img src=\"https://images.unsplash.com/photo-1569959595862-1c84553361c1?ixid=MXwxMjA3fDB8MHxwaG90by1wYWdlfHx8fGVufDB8fHw%3D&ixlib=rb-1.2.1&auto=format&fit=crop&w=2934&q=80\" width=\"800\">"
   ]
  },
  {
   "cell_type": "markdown",
   "metadata": {},
   "source": [
    "Our analysis is going to be performed as follows:\n",
    "\n",
    "1. PySpark **environment setup**\n",
    "2. Data source and **Spark data abstraction** (DataFrame) **set up**\n",
    "3. Data set **metadata analysis**:\n",
    "  1. Display **schema and size** of the DataFrame\n",
    "  2. Get one or multiple **random samples** from the data set to better understand what the data is all about\n",
    "  3. Identify **data entities**, **metrics** and **dimensions**\n",
    "  4. **Columns/fields categorization**\n",
    "4. Columns groups **basic profiling** to better understand our data set:\n",
    "  1. **Arrival time related** columns basic profiling\n",
    "  2. **Guest info related** columns basic profiling\n",
    "  3. **Order related** columns basic profiling\n",
    "  3. **Issue related** columns basic profiling\n",
    "5. **Answer some business questions** to improve service\n",
    "  1. **Create new columns** based on the profiling we saw earlier\n",
    "  2. **Comparison across dimension** compare cancelation rate across dimension \n",
    "\n",
    "Let's go for it:"
   ]
  },
  {
   "cell_type": "markdown",
   "metadata": {},
   "source": [
    "## 1. PySpark environment setup"
   ]
  },
  {
   "cell_type": "code",
   "execution_count": 1,
   "metadata": {
    "scrolled": true
   },
   "outputs": [
    {
     "data": {
      "text/html": [
       "<style>.container { width:100% !important; }</style>"
      ],
      "text/plain": [
       "<IPython.core.display.HTML object>"
      ]
     },
     "metadata": {},
     "output_type": "display_data"
    }
   ],
   "source": [
    "from IPython.core.display import display, HTML\n",
    "display(HTML(\"<style>.container { width:100% !important; }</style>\"))"
   ]
  },
  {
   "cell_type": "code",
   "execution_count": 2,
   "metadata": {},
   "outputs": [],
   "source": [
    "import findspark\n",
    "findspark.init()"
   ]
  },
  {
   "cell_type": "code",
   "execution_count": 3,
   "metadata": {},
   "outputs": [],
   "source": [
    "from pyspark.sql.session import SparkSession\n",
    "spark = SparkSession.builder.getOrCreate()"
   ]
  },
  {
   "cell_type": "code",
   "execution_count": 4,
   "metadata": {},
   "outputs": [],
   "source": [
    "from pyspark.sql.functions import *\n",
    "from pyspark.sql.types import *"
   ]
  },
  {
   "cell_type": "markdown",
   "metadata": {},
   "source": [
    "## 2. Data source and Spark DataFrame setup"
   ]
  },
  {
   "cell_type": "code",
   "execution_count": 5,
   "metadata": {},
   "outputs": [],
   "source": [
    "booking_df = ( spark.read\n",
    "                    .option(\"inferSchema\", \"true\")\n",
    "                    .option(\"header\",\"true\")\n",
    "                    .csv(\"hotel_bookings.csv\")\n",
    "                    .cache()\n",
    "             )"
   ]
  },
  {
   "cell_type": "code",
   "execution_count": 6,
   "metadata": {
    "scrolled": false
   },
   "outputs": [
    {
     "name": "stdout",
     "output_type": "stream",
     "text": [
      "+------------+-----------+---------+-----------------+------------------+------------------------+-------------------------+-----------------------+--------------------+------+--------+------+----+-------+--------------+--------------------+-----------------+----------------------+------------------------------+------------------+------------------+---------------+------------+-----+-------+--------------------+-------------+---+---------------------------+-------------------------+------------------+-----------------------+\n",
      "|       hotel|is_canceled|lead_time|arrival_date_year|arrival_date_month|arrival_date_week_number|arrival_date_day_of_month|stays_in_weekend_nights|stays_in_week_nights|adults|children|babies|meal|country|market_segment|distribution_channel|is_repeated_guest|previous_cancellations|previous_bookings_not_canceled|reserved_room_type|assigned_room_type|booking_changes|deposit_type|agent|company|days_in_waiting_list|customer_type|adr|required_car_parking_spaces|total_of_special_requests|reservation_status|reservation_status_date|\n",
      "+------------+-----------+---------+-----------------+------------------+------------------------+-------------------------+-----------------------+--------------------+------+--------+------+----+-------+--------------+--------------------+-----------------+----------------------+------------------------------+------------------+------------------+---------------+------------+-----+-------+--------------------+-------------+---+---------------------------+-------------------------+------------------+-----------------------+\n",
      "|Resort Hotel|          0|      342|             2015|              July|                      27|                        1|                      0|                   0|     2|       0|     0|  BB|    PRT|        Direct|              Direct|                0|                     0|                             0|                 C|                 C|              3|  No Deposit| NULL|   NULL|                   0|    Transient|0.0|                          0|                        0|         Check-Out|             2015-07-01|\n",
      "+------------+-----------+---------+-----------------+------------------+------------------------+-------------------------+-----------------------+--------------------+------+--------+------+----+-------+--------------+--------------------+-----------------+----------------------+------------------------------+------------------+------------------+---------------+------------+-----+-------+--------------------+-------------+---+---------------------------+-------------------------+------------------+-----------------------+\n",
      "only showing top 1 row\n",
      "\n"
     ]
    }
   ],
   "source": [
    "booking_df.show(1)"
   ]
  },
  {
   "cell_type": "markdown",
   "metadata": {},
   "source": [
    "## 3. Dataset metadata analysis"
   ]
  },
  {
   "cell_type": "markdown",
   "metadata": {},
   "source": [
    "### A. Display schema and size of the DataFrame"
   ]
  },
  {
   "cell_type": "code",
   "execution_count": 7,
   "metadata": {},
   "outputs": [],
   "source": [
    "from IPython.display import display, Markdown"
   ]
  },
  {
   "cell_type": "code",
   "execution_count": 8,
   "metadata": {},
   "outputs": [
    {
     "name": "stdout",
     "output_type": "stream",
     "text": [
      "root\n",
      " |-- hotel: string (nullable = true)\n",
      " |-- is_canceled: integer (nullable = true)\n",
      " |-- lead_time: integer (nullable = true)\n",
      " |-- arrival_date_year: integer (nullable = true)\n",
      " |-- arrival_date_month: string (nullable = true)\n",
      " |-- arrival_date_week_number: integer (nullable = true)\n",
      " |-- arrival_date_day_of_month: integer (nullable = true)\n",
      " |-- stays_in_weekend_nights: integer (nullable = true)\n",
      " |-- stays_in_week_nights: integer (nullable = true)\n",
      " |-- adults: integer (nullable = true)\n",
      " |-- children: string (nullable = true)\n",
      " |-- babies: integer (nullable = true)\n",
      " |-- meal: string (nullable = true)\n",
      " |-- country: string (nullable = true)\n",
      " |-- market_segment: string (nullable = true)\n",
      " |-- distribution_channel: string (nullable = true)\n",
      " |-- is_repeated_guest: integer (nullable = true)\n",
      " |-- previous_cancellations: integer (nullable = true)\n",
      " |-- previous_bookings_not_canceled: integer (nullable = true)\n",
      " |-- reserved_room_type: string (nullable = true)\n",
      " |-- assigned_room_type: string (nullable = true)\n",
      " |-- booking_changes: integer (nullable = true)\n",
      " |-- deposit_type: string (nullable = true)\n",
      " |-- agent: string (nullable = true)\n",
      " |-- company: string (nullable = true)\n",
      " |-- days_in_waiting_list: integer (nullable = true)\n",
      " |-- customer_type: string (nullable = true)\n",
      " |-- adr: double (nullable = true)\n",
      " |-- required_car_parking_spaces: integer (nullable = true)\n",
      " |-- total_of_special_requests: integer (nullable = true)\n",
      " |-- reservation_status: string (nullable = true)\n",
      " |-- reservation_status_date: string (nullable = true)\n",
      "\n"
     ]
    },
    {
     "data": {
      "text/markdown": [
       "This dataframe has **119390 rows**."
      ],
      "text/plain": [
       "<IPython.core.display.Markdown object>"
      ]
     },
     "metadata": {},
     "output_type": "display_data"
    }
   ],
   "source": [
    "booking_df.printSchema()\n",
    "display(Markdown(\"This dataframe has **%d rows**.\" % booking_df.count()))"
   ]
  },
  {
   "cell_type": "markdown",
   "metadata": {},
   "source": [
    "We could see here that `arrival_date_month` and `children` are in string but should have been in integer, based on their defintions and columns similar to them. We'll keep this mind for our inspection later."
   ]
  },
  {
   "cell_type": "markdown",
   "metadata": {},
   "source": [
    "### B. Get one or multiple random samples from the data set"
   ]
  },
  {
   "cell_type": "code",
   "execution_count": 9,
   "metadata": {
    "scrolled": true
   },
   "outputs": [
    {
     "data": {
      "text/plain": [
       "[Row(hotel='Resort Hotel', is_canceled=0, lead_time=342, arrival_date_year=2015, arrival_date_month='July', arrival_date_week_number=27, arrival_date_day_of_month=1, stays_in_weekend_nights=0, stays_in_week_nights=0, adults=2, children='0', babies=0, meal='BB', country='PRT', market_segment='Direct', distribution_channel='Direct', is_repeated_guest=0, previous_cancellations=0, previous_bookings_not_canceled=0, reserved_room_type='C', assigned_room_type='C', booking_changes=3, deposit_type='No Deposit', agent='NULL', company='NULL', days_in_waiting_list=0, customer_type='Transient', adr=0.0, required_car_parking_spaces=0, total_of_special_requests=0, reservation_status='Check-Out', reservation_status_date='2015-07-01')]"
      ]
     },
     "metadata": {},
     "output_type": "display_data"
    }
   ],
   "source": [
    "display(booking_df.take(1))"
   ]
  },
  {
   "cell_type": "code",
   "execution_count": 10,
   "metadata": {},
   "outputs": [
    {
     "data": {
      "text/plain": [
       "[Row(hotel='Resort Hotel', is_canceled=0, lead_time=72, arrival_date_year=2015, arrival_date_month='July', arrival_date_week_number=27, arrival_date_day_of_month=1, stays_in_weekend_nights=2, stays_in_week_nights=4, adults=2, children='0', babies=0, meal='BB', country='PRT', market_segment='Direct', distribution_channel='Direct', is_repeated_guest=0, previous_cancellations=0, previous_bookings_not_canceled=0, reserved_room_type='D', assigned_room_type='D', booking_changes=1, deposit_type='No Deposit', agent='250', company='NULL', days_in_waiting_list=0, customer_type='Transient', adr=99.67, required_car_parking_spaces=0, total_of_special_requests=1, reservation_status='Check-Out', reservation_status_date='2015-07-07')]"
      ]
     },
     "metadata": {},
     "output_type": "display_data"
    }
   ],
   "source": [
    "display(booking_df.sample(0.1).take(1))"
   ]
  },
  {
   "cell_type": "code",
   "execution_count": 11,
   "metadata": {
    "scrolled": true
   },
   "outputs": [
    {
     "name": "stdout",
     "output_type": "stream",
     "text": [
      "+------------+-----------+---------+-----------------+------------------+------------------------+-------------------------+-----------------------+--------------------+------+--------+------+----+-------+--------------+--------------------+-----------------+----------------------+------------------------------+------------------+------------------+---------------+------------+-----+-------+--------------------+-------------+---+---------------------------+-------------------------+------------------+-----------------------+\n",
      "|       hotel|is_canceled|lead_time|arrival_date_year|arrival_date_month|arrival_date_week_number|arrival_date_day_of_month|stays_in_weekend_nights|stays_in_week_nights|adults|children|babies|meal|country|market_segment|distribution_channel|is_repeated_guest|previous_cancellations|previous_bookings_not_canceled|reserved_room_type|assigned_room_type|booking_changes|deposit_type|agent|company|days_in_waiting_list|customer_type|adr|required_car_parking_spaces|total_of_special_requests|reservation_status|reservation_status_date|\n",
      "+------------+-----------+---------+-----------------+------------------+------------------------+-------------------------+-----------------------+--------------------+------+--------+------+----+-------+--------------+--------------------+-----------------+----------------------+------------------------------+------------------+------------------+---------------+------------+-----+-------+--------------------+-------------+---+---------------------------+-------------------------+------------------+-----------------------+\n",
      "|Resort Hotel|          0|      342|             2015|              July|                      27|                        1|                      0|                   0|     2|       0|     0|  BB|    PRT|        Direct|              Direct|                0|                     0|                             0|                 C|                 C|              3|  No Deposit| NULL|   NULL|                   0|    Transient|0.0|                          0|                        0|         Check-Out|             2015-07-01|\n",
      "+------------+-----------+---------+-----------------+------------------+------------------------+-------------------------+-----------------------+--------------------+------+--------+------+----+-------+--------------+--------------------+-----------------+----------------------+------------------------------+------------------+------------------+---------------+------------+-----+-------+--------------------+-------------+---+---------------------------+-------------------------+------------------+-----------------------+\n",
      "only showing top 1 row\n",
      "\n"
     ]
    }
   ],
   "source": [
    "booking_df.show(1)"
   ]
  },
  {
   "cell_type": "markdown",
   "metadata": {},
   "source": [
    "### C. Checking for NULLs across the data set"
   ]
  },
  {
   "cell_type": "code",
   "execution_count": 12,
   "metadata": {},
   "outputs": [
    {
     "name": "stdout",
     "output_type": "stream",
     "text": [
      "Checking for nulls in the dataset:\n",
      "+-----+-----------+---------+-----------------+------------------+------------------------+-------------------------+-----------------------+--------------------+------+--------+------+----+-------+--------------+--------------------+-----------------+----------------------+------------------------------+------------------+------------------+---------------+------------+-----+-------+--------------------+-------------+---+---------------------------+-------------------------+------------------+-----------------------+\n",
      "|hotel|is_canceled|lead_time|arrival_date_year|arrival_date_month|arrival_date_week_number|arrival_date_day_of_month|stays_in_weekend_nights|stays_in_week_nights|adults|children|babies|meal|country|market_segment|distribution_channel|is_repeated_guest|previous_cancellations|previous_bookings_not_canceled|reserved_room_type|assigned_room_type|booking_changes|deposit_type|agent|company|days_in_waiting_list|customer_type|adr|required_car_parking_spaces|total_of_special_requests|reservation_status|reservation_status_date|\n",
      "+-----+-----------+---------+-----------------+------------------+------------------------+-------------------------+-----------------------+--------------------+------+--------+------+----+-------+--------------+--------------------+-----------------+----------------------+------------------------------+------------------+------------------+---------------+------------+-----+-------+--------------------+-------------+---+---------------------------+-------------------------+------------------+-----------------------+\n",
      "|    0|          0|        0|                0|                 0|                       0|                        0|                      0|                   0|     0|       0|     0|   0|      0|             0|                   0|                0|                     0|                             0|                 0|                 0|              0|           0|    0|      0|                   0|            0|  0|                          0|                        0|                 0|                      0|\n",
      "+-----+-----------+---------+-----------------+------------------+------------------------+-------------------------+-----------------------+--------------------+------+--------+------+----+-------+--------------+--------------------+-----------------+----------------------+------------------------------+------------------+------------------+---------------+------------+-----+-------+--------------------+-------------+---+---------------------------+-------------------------+------------------+-----------------------+\n",
      "\n"
     ]
    }
   ],
   "source": [
    "print(\"Checking for nulls in the dataset:\")\n",
    "\n",
    "booking_df_column_names = booking_df.columns\n",
    "booking_df.select([count(when(col(c).isNull(), c)).alias(c) for c in booking_df_column_names]).show()"
   ]
  },
  {
   "cell_type": "markdown",
   "metadata": {},
   "source": [
    "We could see that in the first row & the sampled row there are \"Null\"s, but they are not considered Null in Spark. \n",
    "\n",
    "For Spark, null values need to be named `None` instead of `NULL`, so we'll replace these cells with `None`. "
   ]
  },
  {
   "cell_type": "code",
   "execution_count": 13,
   "metadata": {},
   "outputs": [],
   "source": [
    "booking_df_column_names = booking_df.columns\n",
    "\n",
    "for i in booking_df_column_names:\n",
    "    booking_df = booking_df.withColumn(i,when((col(i)=='NULL'),None).otherwise(col(i)))"
   ]
  },
  {
   "cell_type": "code",
   "execution_count": 14,
   "metadata": {},
   "outputs": [
    {
     "name": "stdout",
     "output_type": "stream",
     "text": [
      "Checking for nulls in the dataset:\n",
      "+-----+-----------+---------+-----------------+------------------+------------------------+-------------------------+-----------------------+--------------------+------+--------+------+----+-------+--------------+--------------------+-----------------+----------------------+------------------------------+------------------+------------------+---------------+------------+-----+-------+--------------------+-------------+---+---------------------------+-------------------------+------------------+-----------------------+\n",
      "|hotel|is_canceled|lead_time|arrival_date_year|arrival_date_month|arrival_date_week_number|arrival_date_day_of_month|stays_in_weekend_nights|stays_in_week_nights|adults|children|babies|meal|country|market_segment|distribution_channel|is_repeated_guest|previous_cancellations|previous_bookings_not_canceled|reserved_room_type|assigned_room_type|booking_changes|deposit_type|agent|company|days_in_waiting_list|customer_type|adr|required_car_parking_spaces|total_of_special_requests|reservation_status|reservation_status_date|\n",
      "+-----+-----------+---------+-----------------+------------------+------------------------+-------------------------+-----------------------+--------------------+------+--------+------+----+-------+--------------+--------------------+-----------------+----------------------+------------------------------+------------------+------------------+---------------+------------+-----+-------+--------------------+-------------+---+---------------------------+-------------------------+------------------+-----------------------+\n",
      "|    0|          0|        0|                0|                 0|                       0|                        0|                      0|                   0|     0|       0|     0|   0|    488|             0|                   0|                0|                     0|                             0|                 0|                 0|              0|           0|16340| 112593|                   0|            0|  0|                          0|                        0|                 0|                      0|\n",
      "+-----+-----------+---------+-----------------+------------------+------------------------+-------------------------+-----------------------+--------------------+------+--------+------+----+-------+--------------+--------------------+-----------------+----------------------+------------------------------+------------------+------------------+---------------+------------+-----+-------+--------------------+-------------+---+---------------------------+-------------------------+------------------+-----------------------+\n",
      "\n"
     ]
    }
   ],
   "source": [
    "print(\"Checking for nulls in the dataset:\")\n",
    "\n",
    "booking_df.select([count(when(col(c).isNull(), c)).alias(c) for c in booking_df_column_names]).show()"
   ]
  },
  {
   "cell_type": "markdown",
   "metadata": {},
   "source": [
    "### D. Data entities, metrics and dimensions\n",
    "\n",
    "I've identified the following elements:\n",
    "\n",
    "* **Entities:** hotel\n",
    "* **Metrics:** lead_time, booking_changes, adults...\n",
    "* **Dimensions:** country, market segment, distribution channel...\n",
    "\n",
    "### E. Column categorization\n",
    "\n",
    "The following could be a potential column categorization:\n",
    "\n",
    "* **Arrival time related columns:** *arrival_date_year*, *arrival_date_month*, *arrival_date_week_number*, *arrival_date_day_of_month*, *reservation_status_date*\n",
    "* **Issue related columns:** *is_cancelled*, *previous_cancellation*, *booking_changes*, *reservation_status*\n",
    "* **Guest info related columns:** *country*, *adults*, *children*, *babies*, *is_repeated_guest*, *customer_type*, *previous_bookings_not_canceled*\n",
    "* **Order related columns:** *market_segment*, *distribution_channel*, *reserved_room_type*, *deposit_type*, *agent*, *reservation_status*, *lead_time*, *agent* ..."
   ]
  },
  {
   "cell_type": "markdown",
   "metadata": {},
   "source": [
    "## 4. Columns groups basic profiling to better understand our data set\n",
    "### A. Arrival time related columns basic profiling"
   ]
  },
  {
   "cell_type": "code",
   "execution_count": 15,
   "metadata": {},
   "outputs": [],
   "source": [
    "arrival_time_related_columns = [\"arrival_date_year\", \"arrival_date_month\", \"arrival_date_week_number\", \n",
    "                                \"arrival_date_day_of_month\", \"reservation_status_date\"]"
   ]
  },
  {
   "cell_type": "code",
   "execution_count": 16,
   "metadata": {
    "scrolled": false
   },
   "outputs": [
    {
     "name": "stdout",
     "output_type": "stream",
     "text": [
      "Summary of arrival time related columns:\n",
      "+-------+------------------+------------------+------------------------+-------------------------+-----------------------+\n",
      "|summary| arrival_date_year|arrival_date_month|arrival_date_week_number|arrival_date_day_of_month|reservation_status_date|\n",
      "+-------+------------------+------------------+------------------------+-------------------------+-----------------------+\n",
      "|  count|            119390|            119390|                  119390|                   119390|                 119390|\n",
      "|   mean| 2016.156554150264|              null|       27.16517296255968|       15.798241058715135|                   null|\n",
      "| stddev|0.7074759445220408|              null|      13.605138355497665|        8.780829470578343|                   null|\n",
      "|    min|              2015|             April|                       1|                        1|             2014-10-17|\n",
      "|    25%|              2016|              null|                      16|                        8|                   null|\n",
      "|    50%|              2016|              null|                      28|                       16|                   null|\n",
      "|    75%|              2017|              null|                      38|                       23|                   null|\n",
      "|    max|              2017|         September|                      53|                       31|             2017-09-14|\n",
      "+-------+------------------+------------------+------------------------+-------------------------+-----------------------+\n",
      "\n"
     ]
    }
   ],
   "source": [
    "print(\"Summary of arrival time related columns:\")\n",
    "\n",
    "booking_df.select(arrival_time_related_columns).summary().show()"
   ]
  },
  {
   "cell_type": "markdown",
   "metadata": {},
   "source": [
    "We could see that `reservation_status_date` in string format, we will convert this column into datetime format."
   ]
  },
  {
   "cell_type": "code",
   "execution_count": 17,
   "metadata": {},
   "outputs": [],
   "source": [
    "booking_df = booking_df.withColumn(\"reservation_status_date\", \n",
    "                      to_date(unix_timestamp(col(\"reservation_status_date\"), \"yyyy-MM-dd\").cast(\"timestamp\")))"
   ]
  },
  {
   "cell_type": "code",
   "execution_count": 18,
   "metadata": {},
   "outputs": [
    {
     "name": "stdout",
     "output_type": "stream",
     "text": [
      "Checking for nulls in the time related columns:\n",
      "+-----------------+------------------+------------------------+-------------------------+-----------------------+\n",
      "|arrival_date_year|arrival_date_month|arrival_date_week_number|arrival_date_day_of_month|reservation_status_date|\n",
      "+-----------------+------------------+------------------------+-------------------------+-----------------------+\n",
      "|                0|                 0|                       0|                        0|                      0|\n",
      "+-----------------+------------------+------------------------+-------------------------+-----------------------+\n",
      "\n"
     ]
    }
   ],
   "source": [
    "print(\"Checking for nulls in the time related columns:\")\n",
    "\n",
    "booking_df.select([count(when(col(c).isNull(), c)).alias(c) for c in arrival_time_related_columns]).show()"
   ]
  },
  {
   "cell_type": "markdown",
   "metadata": {},
   "source": [
    "We realized that the `arrival_date_month` is in text instead of number, which may cause trouble is we want to do calculation later on, so we will transfrom this column."
   ]
  },
  {
   "cell_type": "code",
   "execution_count": 19,
   "metadata": {
    "scrolled": true
   },
   "outputs": [
    {
     "name": "stderr",
     "output_type": "stream",
     "text": [
      "/opt/spark-3.0.0-bin-hadoop3.2/python/pyspark/sql/dataframe.py:1894: UserWarning: to_replace is a dict and value is not None. value will be ignored.\n",
      "  warnings.warn(\"to_replace is a dict and value is not None. value will be ignored.\")\n"
     ]
    }
   ],
   "source": [
    "monthDict = {\"January\": \"1\", \"February\": \"2\", \"March\": \"3\", \"April\": \"4\", \n",
    "             \"May\": \"5\", \"June\": \"6\", \"July\":\"7\", \"August\": \"8\", \n",
    "             \"September\": \"9\", \"October\": \"10\", \"November\": \"11\", \"December\": \"12\"}\n",
    "booking_df = booking_df.na.replace(monthDict, 1)\n",
    "booking_df = booking_df.withColumn(\"arrival_date_month\", booking_df[\"arrival_date_month\"].cast(IntegerType()))"
   ]
  },
  {
   "cell_type": "code",
   "execution_count": 20,
   "metadata": {},
   "outputs": [
    {
     "name": "stdout",
     "output_type": "stream",
     "text": [
      "Summary of arrival time related columns:\n",
      "+-------+------------------+------------------+------------------------+-------------------------+\n",
      "|summary| arrival_date_year|arrival_date_month|arrival_date_week_number|arrival_date_day_of_month|\n",
      "+-------+------------------+------------------+------------------------+-------------------------+\n",
      "|  count|            119390|            119390|                  119390|                   119390|\n",
      "|   mean| 2016.156554150264| 6.552483457576011|       27.16517296255968|       15.798241058715135|\n",
      "| stddev|0.7074759445220408| 3.090618686900272|      13.605138355497665|        8.780829470578343|\n",
      "|    min|              2015|                 1|                       1|                        1|\n",
      "|    25%|              2016|                 4|                      16|                        8|\n",
      "|    50%|              2016|                 7|                      28|                       16|\n",
      "|    75%|              2017|                 9|                      38|                       23|\n",
      "|    max|              2017|                12|                      53|                       31|\n",
      "+-------+------------------+------------------+------------------------+-------------------------+\n",
      "\n"
     ]
    }
   ],
   "source": [
    "print(\"Summary of arrival time related columns:\")\n",
    "\n",
    "booking_df.select(arrival_time_related_columns).summary().show()"
   ]
  },
  {
   "cell_type": "code",
   "execution_count": 21,
   "metadata": {},
   "outputs": [
    {
     "name": "stdout",
     "output_type": "stream",
     "text": [
      "Checking for unique values the time related columns:\n",
      "+-----------------+------------------+------------------------+-------------------------+-----------------------+\n",
      "|arrival_date_year|arrival_date_month|arrival_date_week_number|arrival_date_day_of_month|reservation_status_date|\n",
      "+-----------------+------------------+------------------------+-------------------------+-----------------------+\n",
      "|                3|                12|                      53|                       31|                    926|\n",
      "+-----------------+------------------+------------------------+-------------------------+-----------------------+\n",
      "\n"
     ]
    }
   ],
   "source": [
    "print(\"Checking for unique values the time related columns:\")\n",
    "\n",
    "booking_df.select([countDistinct(c).alias(c) for c in arrival_time_related_columns]).show()"
   ]
  },
  {
   "cell_type": "code",
   "execution_count": 22,
   "metadata": {
    "scrolled": true
   },
   "outputs": [
    {
     "name": "stdout",
     "output_type": "stream",
     "text": [
      "Most and least frequent occurrences for arrival_date_month:\n",
      "+------------------+-----+\n",
      "|arrival_date_month|count|\n",
      "+------------------+-----+\n",
      "|                 8|13877|\n",
      "|                 7|12661|\n",
      "|                 5|11791|\n",
      "|                10|11160|\n",
      "|                 4|11089|\n",
      "|                 6|10939|\n",
      "|                 9|10508|\n",
      "|                 3| 9794|\n",
      "|                 2| 8068|\n",
      "|                11| 6794|\n",
      "|                12| 6780|\n",
      "|                 1| 5929|\n",
      "+------------------+-----+\n",
      "\n"
     ]
    }
   ],
   "source": [
    "print (\"Most and least frequent occurrences for arrival_date_month:\")\n",
    "monthOccurrenceDF = booking_df.groupBy(\"arrival_date_month\").count().sort(col(\"count\").desc())\n",
    "monthOccurrenceDF.show()"
   ]
  },
  {
   "cell_type": "code",
   "execution_count": 23,
   "metadata": {
    "scrolled": true
   },
   "outputs": [
    {
     "name": "stdout",
     "output_type": "stream",
     "text": [
      "Most and least frequent occurrences for arrival_date_day_of_month:\n",
      "+-------------------------+-----+\n",
      "|arrival_date_day_of_month|count|\n",
      "+-------------------------+-----+\n",
      "|                       17| 4406|\n",
      "|                        5| 4317|\n",
      "|                       15| 4196|\n",
      "|                       25| 4160|\n",
      "|                       26| 4147|\n",
      "|                        9| 4096|\n",
      "|                       12| 4087|\n",
      "|                       16| 4078|\n",
      "|                        2| 4055|\n",
      "|                       19| 4052|\n",
      "|                       20| 4032|\n",
      "|                       18| 4002|\n",
      "|                       24| 3993|\n",
      "|                       28| 3946|\n",
      "|                        8| 3921|\n",
      "|                        3| 3855|\n",
      "|                       30| 3853|\n",
      "|                        6| 3833|\n",
      "|                       14| 3819|\n",
      "|                       27| 3802|\n",
      "+-------------------------+-----+\n",
      "only showing top 20 rows\n",
      "\n"
     ]
    }
   ],
   "source": [
    "print (\"Most and least frequent occurrences for arrival_date_day_of_month:\")\n",
    "dayOccurrenceDF = booking_df.groupBy(\"arrival_date_day_of_month\").count().sort(col(\"count\").desc())\n",
    "dayOccurrenceDF.show()"
   ]
  },
  {
   "cell_type": "code",
   "execution_count": 24,
   "metadata": {
    "scrolled": false
   },
   "outputs": [
    {
     "name": "stdout",
     "output_type": "stream",
     "text": [
      "Most and least frequent occurrences for arrival_date_week_number:\n",
      "+------------------------+-----+\n",
      "|arrival_date_week_number|count|\n",
      "+------------------------+-----+\n",
      "|                      33| 3580|\n",
      "|                      30| 3087|\n",
      "|                      32| 3045|\n",
      "|                      34| 3040|\n",
      "|                      18| 2926|\n",
      "|                      21| 2854|\n",
      "|                      28| 2853|\n",
      "|                      17| 2805|\n",
      "|                      20| 2785|\n",
      "|                      29| 2763|\n",
      "|                      42| 2756|\n",
      "|                      31| 2741|\n",
      "|                      41| 2699|\n",
      "|                      15| 2689|\n",
      "|                      27| 2664|\n",
      "|                      25| 2663|\n",
      "|                      38| 2661|\n",
      "|                      23| 2621|\n",
      "|                      35| 2593|\n",
      "|                      39| 2581|\n",
      "|                      22| 2546|\n",
      "|                      24| 2498|\n",
      "|                      13| 2416|\n",
      "|                      16| 2405|\n",
      "|                      19| 2402|\n",
      "|                      40| 2397|\n",
      "|                      26| 2391|\n",
      "|                      43| 2352|\n",
      "|                      44| 2272|\n",
      "|                      14| 2264|\n",
      "|                      37| 2229|\n",
      "|                       8| 2216|\n",
      "|                      36| 2167|\n",
      "|                      10| 2149|\n",
      "|                       9| 2117|\n",
      "|                       7| 2109|\n",
      "|                      12| 2083|\n",
      "|                      11| 2070|\n",
      "|                      45| 1941|\n",
      "|                      53| 1816|\n",
      "|                      49| 1782|\n",
      "|                      47| 1685|\n",
      "|                      46| 1574|\n",
      "|                       6| 1508|\n",
      "|                      50| 1505|\n",
      "|                      48| 1504|\n",
      "|                       4| 1487|\n",
      "|                       5| 1387|\n",
      "|                       3| 1319|\n",
      "|                       2| 1218|\n",
      "|                      52| 1195|\n",
      "|                       1| 1047|\n",
      "|                      51|  933|\n",
      "+------------------------+-----+\n",
      "\n"
     ]
    }
   ],
   "source": [
    "print (\"Most and least frequent occurrences for arrival_date_week_number:\")\n",
    "weekOccurrenceDF = booking_df.groupBy(\"arrival_date_week_number\").count().sort(col(\"count\").desc())\n",
    "weekOccurrenceDF.show(53)"
   ]
  },
  {
   "cell_type": "code",
   "execution_count": 25,
   "metadata": {
    "scrolled": true
   },
   "outputs": [
    {
     "name": "stdout",
     "output_type": "stream",
     "text": [
      "Most and least frequent occurrences for reservation_status_date:\n",
      "+-----------------------+-----+\n",
      "|reservation_status_date|count|\n",
      "+-----------------------+-----+\n",
      "|             2015-10-21| 1461|\n",
      "|             2015-07-06|  805|\n",
      "|             2016-11-25|  790|\n",
      "|             2015-01-01|  763|\n",
      "|             2016-01-18|  625|\n",
      "|             2015-07-02|  469|\n",
      "|             2016-12-07|  450|\n",
      "|             2015-12-18|  423|\n",
      "|             2016-02-09|  412|\n",
      "|             2016-04-04|  382|\n",
      "|             2017-01-24|  343|\n",
      "|             2016-11-21|  340|\n",
      "|             2016-03-15|  329|\n",
      "|             2017-01-19|  321|\n",
      "|             2017-02-02|  315|\n",
      "|             2016-09-20|  303|\n",
      "|             2016-04-17|  299|\n",
      "|             2017-05-05|  297|\n",
      "|             2015-09-09|  290|\n",
      "|             2016-04-27|  283|\n",
      "+-----------------------+-----+\n",
      "only showing top 20 rows\n",
      "\n"
     ]
    }
   ],
   "source": [
    "print (\"Most and least frequent occurrences for reservation_status_date:\")\n",
    "reservationOccurrenceDF = booking_df.groupBy(\"reservation_status_date\").count().sort(col(\"count\").desc())\n",
    "reservationOccurrenceDF.show()"
   ]
  },
  {
   "cell_type": "code",
   "execution_count": 26,
   "metadata": {},
   "outputs": [
    {
     "name": "stdout",
     "output_type": "stream",
     "text": [
      "+-----------------------+-----+\n",
      "|reservation_status_date|count|\n",
      "+-----------------------+-----+\n",
      "|             2015-03-10|    1|\n",
      "|             2015-04-30|    1|\n",
      "|             2015-04-21|    1|\n",
      "|             2015-02-26|    1|\n",
      "|             2015-02-06|    1|\n",
      "|             2015-03-18|    1|\n",
      "|             2017-09-12|    1|\n",
      "|             2015-03-05|    1|\n",
      "|             2015-02-27|    1|\n",
      "|             2015-02-19|    1|\n",
      "|             2015-03-28|    1|\n",
      "|             2015-02-09|    1|\n",
      "|             2015-03-11|    1|\n",
      "|             2015-04-25|    1|\n",
      "|             2015-02-24|    1|\n",
      "|             2015-03-13|    1|\n",
      "|             2015-01-29|    1|\n",
      "|             2015-03-12|    1|\n",
      "|             2015-04-27|    1|\n",
      "|             2015-04-07|    1|\n",
      "+-----------------------+-----+\n",
      "only showing top 20 rows\n",
      "\n"
     ]
    }
   ],
   "source": [
    "reservationOccurrenceDF.sort(col(\"count\")).show()"
   ]
  },
  {
   "cell_type": "markdown",
   "metadata": {},
   "source": [
    "### B. Guest info related columns basic profiling"
   ]
  },
  {
   "cell_type": "code",
   "execution_count": 27,
   "metadata": {},
   "outputs": [],
   "source": [
    "guest_info_related_columns = [\"country\", \"adults\", \"children\", \"babies\", \"is_repeated_guest\", \n",
    "                              \"previous_bookings_not_canceled\", \"customer_type\"]"
   ]
  },
  {
   "cell_type": "code",
   "execution_count": 28,
   "metadata": {},
   "outputs": [
    {
     "name": "stdout",
     "output_type": "stream",
     "text": [
      "Summary of guest info related columns:\n",
      "+-------+-------+------------------+-------------------+--------------------+-------------------+------------------------------+---------------+\n",
      "|summary|country|            adults|           children|              babies|  is_repeated_guest|previous_bookings_not_canceled|  customer_type|\n",
      "+-------+-------+------------------+-------------------+--------------------+-------------------+------------------------------+---------------+\n",
      "|  count| 118902|            119390|             119390|              119390|             119390|                        119390|         119390|\n",
      "|   mean|   null|1.8564033838679956|0.10388990333874994|0.007948739425412514|0.03191222045397437|           0.13709690928888515|           null|\n",
      "| stddev|   null|0.5792609988327531| 0.3985614447864427|  0.0974361913012642|0.17576714541065672|             1.497436847707679|           null|\n",
      "|    min|    ABW|                 0|                  0|                   0|                  0|                             0|       Contract|\n",
      "|    25%|   null|                 2|                0.0|                   0|                  0|                             0|           null|\n",
      "|    50%|   null|                 2|                0.0|                   0|                  0|                             0|           null|\n",
      "|    75%|   null|                 2|                0.0|                   0|                  0|                             0|           null|\n",
      "|    max|    ZWE|                55|                 NA|                  10|                  1|                            72|Transient-Party|\n",
      "+-------+-------+------------------+-------------------+--------------------+-------------------+------------------------------+---------------+\n",
      "\n"
     ]
    }
   ],
   "source": [
    "print(\"Summary of guest info related columns:\")\n",
    "\n",
    "booking_df.select(guest_info_related_columns).summary().show()"
   ]
  },
  {
   "cell_type": "code",
   "execution_count": 29,
   "metadata": {
    "scrolled": true
   },
   "outputs": [
    {
     "name": "stdout",
     "output_type": "stream",
     "text": [
      "Checking for nulls in the guest related columns:\n",
      "+-------+------+--------+------+-----------------+------------------------------+-------------+\n",
      "|country|adults|children|babies|is_repeated_guest|previous_bookings_not_canceled|customer_type|\n",
      "+-------+------+--------+------+-----------------+------------------------------+-------------+\n",
      "|    488|     0|       0|     0|                0|                             0|            0|\n",
      "+-------+------+--------+------+-----------------+------------------------------+-------------+\n",
      "\n"
     ]
    }
   ],
   "source": [
    "print(\"Checking for nulls in the guest related columns:\")\n",
    "\n",
    "booking_df.select([count(when(col(c).isNull(), c)).alias(c) for c in guest_info_related_columns]).show()"
   ]
  },
  {
   "cell_type": "markdown",
   "metadata": {},
   "source": [
    "We could see there are 488 null values in the dataframe, let's replace it by `Other countries`. "
   ]
  },
  {
   "cell_type": "code",
   "execution_count": 30,
   "metadata": {
    "scrolled": true
   },
   "outputs": [],
   "source": [
    "booking_df = booking_df.fillna(\"Other countries\", \"country\")"
   ]
  },
  {
   "cell_type": "code",
   "execution_count": 31,
   "metadata": {},
   "outputs": [
    {
     "name": "stdout",
     "output_type": "stream",
     "text": [
      "Checking for unique values the guest info related columns:\n",
      "+-------+------+--------+------+-----------------+------------------------------+-------------+\n",
      "|country|adults|children|babies|is_repeated_guest|previous_bookings_not_canceled|customer_type|\n",
      "+-------+------+--------+------+-----------------+------------------------------+-------------+\n",
      "|    178|    14|       6|     5|                2|                            73|            4|\n",
      "+-------+------+--------+------+-----------------+------------------------------+-------------+\n",
      "\n"
     ]
    }
   ],
   "source": [
    "print(\"Checking for unique values the guest info related columns:\")\n",
    "\n",
    "booking_df.select([countDistinct(c).alias(c) for c in guest_info_related_columns]).show()"
   ]
  },
  {
   "cell_type": "code",
   "execution_count": 32,
   "metadata": {
    "scrolled": true
   },
   "outputs": [
    {
     "name": "stdout",
     "output_type": "stream",
     "text": [
      "Most and least frequent occurrences for country:\n",
      "+---------------+-----+\n",
      "|        country|count|\n",
      "+---------------+-----+\n",
      "|            PRT|48590|\n",
      "|            GBR|12129|\n",
      "|            FRA|10415|\n",
      "|            ESP| 8568|\n",
      "|            DEU| 7287|\n",
      "|            ITA| 3766|\n",
      "|            IRL| 3375|\n",
      "|            BEL| 2342|\n",
      "|            BRA| 2224|\n",
      "|            NLD| 2104|\n",
      "|            USA| 2097|\n",
      "|            CHE| 1730|\n",
      "|             CN| 1279|\n",
      "|            AUT| 1263|\n",
      "|            SWE| 1024|\n",
      "|            CHN|  999|\n",
      "|            POL|  919|\n",
      "|            ISR|  669|\n",
      "|            RUS|  632|\n",
      "|            NOR|  607|\n",
      "|            ROU|  500|\n",
      "|Other countries|  488|\n",
      "|            FIN|  447|\n",
      "|            DNK|  435|\n",
      "|            AUS|  426|\n",
      "|            AGO|  362|\n",
      "|            LUX|  287|\n",
      "|            MAR|  259|\n",
      "|            TUR|  248|\n",
      "|            HUN|  230|\n",
      "+---------------+-----+\n",
      "only showing top 30 rows\n",
      "\n"
     ]
    }
   ],
   "source": [
    "print (\"Most and least frequent occurrences for country:\")\n",
    "countryOccurrenceDF = booking_df.groupBy(\"country\").count().sort(col(\"count\").desc())\n",
    "countryOccurrenceDF.show(30)"
   ]
  },
  {
   "cell_type": "code",
   "execution_count": 33,
   "metadata": {},
   "outputs": [
    {
     "name": "stdout",
     "output_type": "stream",
     "text": [
      "Most and least frequent occurrences for adults:\n",
      "+------+-----+\n",
      "|adults|count|\n",
      "+------+-----+\n",
      "|     2|89680|\n",
      "|     1|23027|\n",
      "|     3| 6202|\n",
      "|     0|  403|\n",
      "|     4|   62|\n",
      "|    26|    5|\n",
      "|    27|    2|\n",
      "|    20|    2|\n",
      "|     5|    2|\n",
      "|     6|    1|\n",
      "|    55|    1|\n",
      "|    40|    1|\n",
      "|    50|    1|\n",
      "|    10|    1|\n",
      "+------+-----+\n",
      "\n"
     ]
    }
   ],
   "source": [
    "print (\"Most and least frequent occurrences for adults:\")\n",
    "adultsOccurrenceDF = booking_df.groupBy(\"adults\").count().sort(col(\"count\").desc())\n",
    "adultsOccurrenceDF.show()"
   ]
  },
  {
   "cell_type": "markdown",
   "metadata": {},
   "source": [
    "We noticed that there are **403 orders with 0 adults**, we'll keep this in mind and come back to investigate this later"
   ]
  },
  {
   "cell_type": "code",
   "execution_count": 34,
   "metadata": {
    "scrolled": true
   },
   "outputs": [
    {
     "name": "stdout",
     "output_type": "stream",
     "text": [
      "Most and least frequent occurrences for children:\n",
      "+--------+------+\n",
      "|children| count|\n",
      "+--------+------+\n",
      "|       0|110796|\n",
      "|       1|  4861|\n",
      "|       2|  3652|\n",
      "|       3|    76|\n",
      "|      NA|     4|\n",
      "|      10|     1|\n",
      "+--------+------+\n",
      "\n"
     ]
    }
   ],
   "source": [
    "print (\"Most and least frequent occurrences for children:\")\n",
    "childrenOccurrenceDF = booking_df.groupBy(\"children\").count().sort(col(\"count\").desc())\n",
    "childrenOccurrenceDF.show()"
   ]
  },
  {
   "cell_type": "markdown",
   "metadata": {},
   "source": [
    "We see here that we actually have null values here but in string `\"NA\"`, and the column is in string type instead of integer. \n",
    "We will replace them with 0 and cast the column to integers."
   ]
  },
  {
   "cell_type": "code",
   "execution_count": 35,
   "metadata": {},
   "outputs": [],
   "source": [
    "booking_df = booking_df.withColumn(\"children\",when((col(\"children\")=='NA'),None).otherwise(col(\"children\")))"
   ]
  },
  {
   "cell_type": "code",
   "execution_count": 36,
   "metadata": {},
   "outputs": [],
   "source": [
    "booking_df = booking_df.withColumn(\"children\", booking_df[\"children\"].cast(IntegerType()))"
   ]
  },
  {
   "cell_type": "code",
   "execution_count": 37,
   "metadata": {},
   "outputs": [],
   "source": [
    "booking_df = booking_df.fillna(0, subset = [\"children\"])"
   ]
  },
  {
   "cell_type": "code",
   "execution_count": 38,
   "metadata": {},
   "outputs": [
    {
     "name": "stdout",
     "output_type": "stream",
     "text": [
      "Most and least frequent occurrences for children:\n",
      "+--------+------+\n",
      "|children| count|\n",
      "+--------+------+\n",
      "|       0|110800|\n",
      "|       1|  4861|\n",
      "|       2|  3652|\n",
      "|       3|    76|\n",
      "|      10|     1|\n",
      "+--------+------+\n",
      "\n"
     ]
    }
   ],
   "source": [
    "print (\"Most and least frequent occurrences for children:\")\n",
    "childrenOccurrenceDF = booking_df.groupBy(\"children\").count().sort(col(\"count\").desc())\n",
    "childrenOccurrenceDF.show()"
   ]
  },
  {
   "cell_type": "code",
   "execution_count": 39,
   "metadata": {},
   "outputs": [
    {
     "name": "stdout",
     "output_type": "stream",
     "text": [
      "Most and least frequent occurrences for babies:\n",
      "+------+------+\n",
      "|babies| count|\n",
      "+------+------+\n",
      "|     0|118473|\n",
      "|     1|   900|\n",
      "|     2|    15|\n",
      "|     9|     1|\n",
      "|    10|     1|\n",
      "+------+------+\n",
      "\n"
     ]
    }
   ],
   "source": [
    "print (\"Most and least frequent occurrences for babies:\")\n",
    "babiesOccurrenceDF = booking_df.groupBy(\"babies\").count().sort(col(\"count\").desc())\n",
    "babiesOccurrenceDF.show()"
   ]
  },
  {
   "cell_type": "code",
   "execution_count": 40,
   "metadata": {
    "scrolled": false
   },
   "outputs": [
    {
     "name": "stdout",
     "output_type": "stream",
     "text": [
      "Most and least frequent occurrences for is_repeated_guest:\n",
      "+-----------------+------+\n",
      "|is_repeated_guest| count|\n",
      "+-----------------+------+\n",
      "|                0|115580|\n",
      "|                1|  3810|\n",
      "+-----------------+------+\n",
      "\n"
     ]
    }
   ],
   "source": [
    "print (\"Most and least frequent occurrences for is_repeated_guest:\")\n",
    "is_repeated_guestOccurrenceDF = booking_df.groupBy(\"is_repeated_guest\").count().sort(col(\"count\").desc())\n",
    "is_repeated_guestOccurrenceDF.show()"
   ]
  },
  {
   "cell_type": "code",
   "execution_count": 41,
   "metadata": {
    "scrolled": true
   },
   "outputs": [
    {
     "name": "stdout",
     "output_type": "stream",
     "text": [
      "Most and least frequent occurrences for previous_bookings_not_canceled:\n",
      "+------------------------------+------+\n",
      "|previous_bookings_not_canceled| count|\n",
      "+------------------------------+------+\n",
      "|                             0|115770|\n",
      "|                             1|  1542|\n",
      "|                             2|   580|\n",
      "|                             3|   333|\n",
      "|                             4|   229|\n",
      "|                             5|   181|\n",
      "|                             6|   115|\n",
      "|                             7|    88|\n",
      "|                             8|    70|\n",
      "|                             9|    60|\n",
      "|                            10|    53|\n",
      "|                            11|    43|\n",
      "|                            12|    37|\n",
      "|                            13|    30|\n",
      "|                            14|    28|\n",
      "|                            15|    21|\n",
      "|                            16|    20|\n",
      "|                            25|    17|\n",
      "|                            17|    16|\n",
      "|                            18|    14|\n",
      "+------------------------------+------+\n",
      "only showing top 20 rows\n",
      "\n"
     ]
    }
   ],
   "source": [
    "print (\"Most and least frequent occurrences for previous_bookings_not_canceled:\")\n",
    "previous_bookings_not_canceledOccurrenceDF = booking_df.groupBy(\"previous_bookings_not_canceled\").count().sort(col(\"count\").desc())\n",
    "previous_bookings_not_canceledOccurrenceDF.show()"
   ]
  },
  {
   "cell_type": "code",
   "execution_count": 42,
   "metadata": {
    "scrolled": true
   },
   "outputs": [
    {
     "name": "stdout",
     "output_type": "stream",
     "text": [
      "Most and least frequent occurrences for customer_type:\n",
      "+---------------+-----+\n",
      "|  customer_type|count|\n",
      "+---------------+-----+\n",
      "|      Transient|89613|\n",
      "|Transient-Party|25124|\n",
      "|       Contract| 4076|\n",
      "|          Group|  577|\n",
      "+---------------+-----+\n",
      "\n"
     ]
    }
   ],
   "source": [
    "print (\"Most and least frequent occurrences for customer_type:\")\n",
    "customer_typeOccurrenceDF = booking_df.groupBy(\"customer_type\").count().sort(col(\"count\").desc())\n",
    "customer_typeOccurrenceDF.show()"
   ]
  },
  {
   "cell_type": "markdown",
   "metadata": {},
   "source": [
    "According to the data source, the defintion of the customer_type is: \n",
    "- Contract - when the booking has an allotment or other type of contract associated to it; \n",
    "- Group – when the booking is associated to a group; \n",
    "- Transient – when the booking is not part of a group or contract, and is not associated to other transient booking; \n",
    "- Transient-party – when the booking is transient, but is associated to at least other transient booking"
   ]
  },
  {
   "cell_type": "markdown",
   "metadata": {},
   "source": [
    "### C. Order related columns basic profiling"
   ]
  },
  {
   "cell_type": "code",
   "execution_count": 43,
   "metadata": {},
   "outputs": [],
   "source": [
    "order_related_columns = ['hotel','market_segment' ,'distribution_channel', 'reserved_room_type','assigned_room_type',\n",
    "                                'deposit_type', 'agent','lead_time','meal','days_in_waiting_list','adr','total_of_special_requests',\n",
    "                                'required_car_parking_spaces','stays_in_weekend_nights','stays_in_week_nights', 'company']"
   ]
  },
  {
   "cell_type": "code",
   "execution_count": 44,
   "metadata": {
    "scrolled": false
   },
   "outputs": [
    {
     "name": "stdout",
     "output_type": "stream",
     "text": [
      "Summary of order info related columns:\n",
      "+-------+------------+--------------+--------------------+------------------+------------------+------------+------------------+------------------+\n",
      "|summary|       hotel|market_segment|distribution_channel|reserved_room_type|assigned_room_type|deposit_type|             agent|         lead_time|\n",
      "+-------+------------+--------------+--------------------+------------------+------------------+------------+------------------+------------------+\n",
      "|  count|      119390|        119390|              119390|            119390|            119390|      119390|            103050|            119390|\n",
      "|   mean|        null|          null|                null|              null|              null|        null| 86.69338185346919|104.01141636652986|\n",
      "| stddev|        null|          null|                null|              null|              null|        null|110.77454764295116| 106.8630970479881|\n",
      "|    min|  City Hotel|      Aviation|           Corporate|                 A|                 A|  No Deposit|                 1|                 0|\n",
      "|    25%|        null|          null|                null|              null|              null|        null|               9.0|                18|\n",
      "|    50%|        null|          null|                null|              null|              null|        null|              14.0|                69|\n",
      "|    75%|        null|          null|                null|              null|              null|        null|             229.0|               160|\n",
      "|    max|Resort Hotel|     Undefined|           Undefined|                 P|                 P|  Refundable|                99|               737|\n",
      "+-------+------------+--------------+--------------------+------------------+------------------+------------+------------------+------------------+\n",
      "\n"
     ]
    }
   ],
   "source": [
    "print(\"Summary of order info related columns:\")\n",
    "\n",
    "booking_df.select(order_related_columns[:8]).summary().show()"
   ]
  },
  {
   "cell_type": "code",
   "execution_count": 45,
   "metadata": {
    "scrolled": true
   },
   "outputs": [
    {
     "name": "stdout",
     "output_type": "stream",
     "text": [
      "Summary of order info related columns:\n",
      "+-------+---------+--------------------+------------------+-------------------------+\n",
      "|summary|     meal|days_in_waiting_list|               adr|total_of_special_requests|\n",
      "+-------+---------+--------------------+------------------+-------------------------+\n",
      "|  count|   119390|              119390|            119390|                   119390|\n",
      "|   mean|     null|   2.321149174972778|101.83112153446218|       0.5713627607002262|\n",
      "| stddev|     null|  17.594720878776243| 50.53579028554872|       0.7927984228094107|\n",
      "|    min|       BB|                   0|             -6.38|                        0|\n",
      "|    25%|     null|                   0|             69.29|                        0|\n",
      "|    50%|     null|                   0|              94.5|                        0|\n",
      "|    75%|     null|                   0|             126.0|                        1|\n",
      "|    max|Undefined|                 391|            5400.0|                        5|\n",
      "+-------+---------+--------------------+------------------+-------------------------+\n",
      "\n"
     ]
    }
   ],
   "source": [
    "print(\"Summary of order info related columns:\")\n",
    "\n",
    "booking_df.select(order_related_columns[8:12]).summary().show()"
   ]
  },
  {
   "cell_type": "code",
   "execution_count": 46,
   "metadata": {
    "scrolled": false
   },
   "outputs": [
    {
     "name": "stdout",
     "output_type": "stream",
     "text": [
      "Summary of order related columns:\n",
      "+-------+---------------------------+-----------------------+--------------------+------------------+\n",
      "|summary|required_car_parking_spaces|stays_in_weekend_nights|stays_in_week_nights|           company|\n",
      "+-------+---------------------------+-----------------------+--------------------+------------------+\n",
      "|  count|                     119390|                 119390|              119390|              6797|\n",
      "|   mean|        0.06251779881062065|     0.9275986263506156|   2.500301532791691|189.26673532440782|\n",
      "| stddev|        0.24529114746749414|     0.9986134945978791|  1.9082856150479042| 131.6550146385122|\n",
      "|    min|                          0|                      0|                   0|                10|\n",
      "|    25%|                          0|                      0|                   1|              62.0|\n",
      "|    50%|                          0|                      1|                   2|             179.0|\n",
      "|    75%|                          0|                      2|                   3|             270.0|\n",
      "|    max|                          8|                     19|                  50|                99|\n",
      "+-------+---------------------------+-----------------------+--------------------+------------------+\n",
      "\n"
     ]
    }
   ],
   "source": [
    "print(\"Summary of order related columns:\")\n",
    "\n",
    "booking_df.select(order_related_columns[12:]).summary().show()"
   ]
  },
  {
   "cell_type": "code",
   "execution_count": 47,
   "metadata": {
    "scrolled": true
   },
   "outputs": [
    {
     "name": "stdout",
     "output_type": "stream",
     "text": [
      "Checking for nulls in the time related columns:\n",
      "+-----+--------------+--------------------+------------------+------------------+------------+-----+---------+\n",
      "|hotel|market_segment|distribution_channel|reserved_room_type|assigned_room_type|deposit_type|agent|lead_time|\n",
      "+-----+--------------+--------------------+------------------+------------------+------------+-----+---------+\n",
      "|    0|             0|                   0|                 0|                 0|           0|16340|        0|\n",
      "+-----+--------------+--------------------+------------------+------------------+------------+-----+---------+\n",
      "\n"
     ]
    }
   ],
   "source": [
    "print(\"Checking for nulls in the time related columns:\")\n",
    "\n",
    "booking_df.select([count(when(col(c).isNull(), c)).alias(c) for c in order_related_columns[0:8]]).show()"
   ]
  },
  {
   "cell_type": "code",
   "execution_count": 48,
   "metadata": {},
   "outputs": [
    {
     "name": "stdout",
     "output_type": "stream",
     "text": [
      "Checking for nulls in the time related columns:\n",
      "+----+--------------------+---+-------------------------+---------------------------+-----------------------+--------------------+-------+\n",
      "|meal|days_in_waiting_list|adr|total_of_special_requests|required_car_parking_spaces|stays_in_weekend_nights|stays_in_week_nights|company|\n",
      "+----+--------------------+---+-------------------------+---------------------------+-----------------------+--------------------+-------+\n",
      "|   0|                   0|  0|                        0|                          0|                      0|                   0| 112593|\n",
      "+----+--------------------+---+-------------------------+---------------------------+-----------------------+--------------------+-------+\n",
      "\n"
     ]
    }
   ],
   "source": [
    "print(\"Checking for nulls in the time related columns:\")\n",
    "\n",
    "booking_df.select([count(when(col(c).isNull(), c)).alias(c) for c in order_related_columns[8:]]).show()"
   ]
  },
  {
   "cell_type": "markdown",
   "metadata": {},
   "source": [
    "We could see that in the columns `agent` & `company` there are a lot of null values, let's inspect these columns further:"
   ]
  },
  {
   "cell_type": "code",
   "execution_count": 49,
   "metadata": {
    "scrolled": true
   },
   "outputs": [
    {
     "name": "stdout",
     "output_type": "stream",
     "text": [
      "Checking for unique values in agent & company column:\n",
      "+-----+-------+\n",
      "|agent|company|\n",
      "+-----+-------+\n",
      "|  333|    352|\n",
      "+-----+-------+\n",
      "\n"
     ]
    }
   ],
   "source": [
    "print(\"Checking for unique values in agent & company column:\")\n",
    "\n",
    "booking_df.select([countDistinct(c).alias(c) for c in [\"agent\", \"company\"]]).show()"
   ]
  },
  {
   "cell_type": "markdown",
   "metadata": {},
   "source": [
    "We could see that for `agent` and `company` columns they don't have 0 in their values from the summaries, so we could recode the NULLs into 0s. "
   ]
  },
  {
   "cell_type": "code",
   "execution_count": 50,
   "metadata": {},
   "outputs": [],
   "source": [
    "booking_df = booking_df.fillna(\"0\", subset=['agent', 'company'])"
   ]
  },
  {
   "cell_type": "code",
   "execution_count": 51,
   "metadata": {
    "scrolled": true
   },
   "outputs": [
    {
     "name": "stdout",
     "output_type": "stream",
     "text": [
      "+-----+-------+\n",
      "|agent|company|\n",
      "+-----+-------+\n",
      "|    0|      0|\n",
      "+-----+-------+\n",
      "\n"
     ]
    }
   ],
   "source": [
    "booking_df.select([count(when(col(c).isNull(), c)).alias(c) for c in [\"agent\",\"company\"]]).show()"
   ]
  },
  {
   "cell_type": "code",
   "execution_count": 52,
   "metadata": {
    "scrolled": true
   },
   "outputs": [
    {
     "name": "stdout",
     "output_type": "stream",
     "text": [
      "Most and least frequent occurrences for agent:\n",
      "+-----+-----+\n",
      "|agent|count|\n",
      "+-----+-----+\n",
      "|    9|31961|\n",
      "|    0|16340|\n",
      "|  240|13922|\n",
      "|    1| 7191|\n",
      "|   14| 3640|\n",
      "|    7| 3539|\n",
      "|    6| 3290|\n",
      "|  250| 2870|\n",
      "|  241| 1721|\n",
      "|   28| 1666|\n",
      "|    8| 1514|\n",
      "|    3| 1336|\n",
      "|   37| 1230|\n",
      "|   19| 1061|\n",
      "|   40| 1039|\n",
      "|  314|  927|\n",
      "|   21|  875|\n",
      "|  229|  786|\n",
      "|  242|  780|\n",
      "|   83|  696|\n",
      "+-----+-----+\n",
      "only showing top 20 rows\n",
      "\n"
     ]
    }
   ],
   "source": [
    "print (\"Most and least frequent occurrences for agent:\")\n",
    "agentOccurrenceDF = booking_df.groupBy(\"agent\").count().sort(col(\"count\").desc())\n",
    "agentOccurrenceDF.show()"
   ]
  },
  {
   "cell_type": "code",
   "execution_count": 53,
   "metadata": {},
   "outputs": [
    {
     "name": "stdout",
     "output_type": "stream",
     "text": [
      "Most and least frequent occurrences for company:\n",
      "+-------+------+\n",
      "|company| count|\n",
      "+-------+------+\n",
      "|      0|112593|\n",
      "|     40|   927|\n",
      "|    223|   784|\n",
      "|     67|   267|\n",
      "|     45|   250|\n",
      "|    153|   215|\n",
      "|    174|   149|\n",
      "|    219|   141|\n",
      "|    281|   138|\n",
      "|    154|   133|\n",
      "|    405|   119|\n",
      "|    233|   114|\n",
      "|     51|    99|\n",
      "|     94|    87|\n",
      "|     47|    72|\n",
      "|    135|    66|\n",
      "|    169|    65|\n",
      "|    242|    62|\n",
      "|    331|    61|\n",
      "|    348|    59|\n",
      "+-------+------+\n",
      "only showing top 20 rows\n",
      "\n"
     ]
    }
   ],
   "source": [
    "print (\"Most and least frequent occurrences for company:\")\n",
    "companyOccurrenceDF = booking_df.groupBy(\"company\").count().sort(col(\"count\").desc())\n",
    "companyOccurrenceDF.show()"
   ]
  },
  {
   "cell_type": "code",
   "execution_count": 54,
   "metadata": {},
   "outputs": [
    {
     "name": "stdout",
     "output_type": "stream",
     "text": [
      "Most and least frequent occurrences for hotel:\n",
      "+------------+-----+\n",
      "|       hotel|count|\n",
      "+------------+-----+\n",
      "|  City Hotel|79330|\n",
      "|Resort Hotel|40060|\n",
      "+------------+-----+\n",
      "\n"
     ]
    }
   ],
   "source": [
    "print (\"Most and least frequent occurrences for hotel:\")\n",
    "hotelOccurrenceDF = booking_df.groupBy(\"hotel\").count().sort(col(\"count\").desc())\n",
    "hotelOccurrenceDF.show()"
   ]
  },
  {
   "cell_type": "code",
   "execution_count": 55,
   "metadata": {},
   "outputs": [
    {
     "name": "stdout",
     "output_type": "stream",
     "text": [
      "Most and least frequent occurrences for market_segment:\n",
      "+--------------+-----+\n",
      "|market_segment|count|\n",
      "+--------------+-----+\n",
      "|     Online TA|56477|\n",
      "| Offline TA/TO|24219|\n",
      "|        Groups|19811|\n",
      "|        Direct|12606|\n",
      "|     Corporate| 5295|\n",
      "| Complementary|  743|\n",
      "|      Aviation|  237|\n",
      "|     Undefined|    2|\n",
      "+--------------+-----+\n",
      "\n"
     ]
    }
   ],
   "source": [
    "print (\"Most and least frequent occurrences for market_segment:\")\n",
    "market_segmentOccurrenceDF = booking_df.groupBy(\"market_segment\").count().sort(col(\"count\").desc())\n",
    "market_segmentOccurrenceDF.show()"
   ]
  },
  {
   "cell_type": "code",
   "execution_count": 56,
   "metadata": {},
   "outputs": [
    {
     "name": "stdout",
     "output_type": "stream",
     "text": [
      "Most and least frequent occurrences for distribution_channel:\n",
      "+--------------------+-----+\n",
      "|distribution_channel|count|\n",
      "+--------------------+-----+\n",
      "|               TA/TO|97870|\n",
      "|              Direct|14645|\n",
      "|           Corporate| 6677|\n",
      "|                 GDS|  193|\n",
      "|           Undefined|    5|\n",
      "+--------------------+-----+\n",
      "\n"
     ]
    }
   ],
   "source": [
    "print (\"Most and least frequent occurrences for distribution_channel:\")\n",
    "distribution_channelOccurrenceDF = booking_df.groupBy(\"distribution_channel\").count().sort(col(\"count\").desc())\n",
    "distribution_channelOccurrenceDF.show()"
   ]
  },
  {
   "cell_type": "code",
   "execution_count": 57,
   "metadata": {},
   "outputs": [
    {
     "name": "stdout",
     "output_type": "stream",
     "text": [
      "Most and least frequent occurrences for reserved_room_type:\n",
      "+------------------+-----+\n",
      "|reserved_room_type|count|\n",
      "+------------------+-----+\n",
      "|                 A|85994|\n",
      "|                 D|19201|\n",
      "|                 E| 6535|\n",
      "|                 F| 2897|\n",
      "|                 G| 2094|\n",
      "|                 B| 1118|\n",
      "|                 C|  932|\n",
      "|                 H|  601|\n",
      "|                 P|   12|\n",
      "|                 L|    6|\n",
      "+------------------+-----+\n",
      "\n"
     ]
    }
   ],
   "source": [
    "print (\"Most and least frequent occurrences for reserved_room_type:\")\n",
    "reserved_room_typeOccurrenceDF = booking_df.groupBy(\"reserved_room_type\").count().sort(col(\"count\").desc())\n",
    "reserved_room_typeOccurrenceDF.show()"
   ]
  },
  {
   "cell_type": "code",
   "execution_count": 58,
   "metadata": {},
   "outputs": [
    {
     "name": "stdout",
     "output_type": "stream",
     "text": [
      "Most and least frequent occurrences for assigned_room_type:\n",
      "+------------------+-----+\n",
      "|assigned_room_type|count|\n",
      "+------------------+-----+\n",
      "|                 A|74053|\n",
      "|                 D|25322|\n",
      "|                 E| 7806|\n",
      "|                 F| 3751|\n",
      "|                 G| 2553|\n",
      "|                 C| 2375|\n",
      "|                 B| 2163|\n",
      "|                 H|  712|\n",
      "|                 I|  363|\n",
      "|                 K|  279|\n",
      "|                 P|   12|\n",
      "|                 L|    1|\n",
      "+------------------+-----+\n",
      "\n"
     ]
    }
   ],
   "source": [
    "print (\"Most and least frequent occurrences for assigned_room_type:\")\n",
    "assigned_room_typeOccurrenceDF = booking_df.groupBy(\"assigned_room_type\").count().sort(col(\"count\").desc())\n",
    "assigned_room_typeOccurrenceDF.show()"
   ]
  },
  {
   "cell_type": "code",
   "execution_count": 59,
   "metadata": {},
   "outputs": [
    {
     "name": "stdout",
     "output_type": "stream",
     "text": [
      "Most and least frequent occurrences for deposit_type:\n",
      "+------------+------+\n",
      "|deposit_type| count|\n",
      "+------------+------+\n",
      "|  No Deposit|104641|\n",
      "|  Non Refund| 14587|\n",
      "|  Refundable|   162|\n",
      "+------------+------+\n",
      "\n"
     ]
    }
   ],
   "source": [
    "print (\"Most and least frequent occurrences for deposit_type:\")\n",
    "deposit_typeOccurrenceDF = booking_df.groupBy(\"deposit_type\").count().sort(col(\"count\").desc())\n",
    "deposit_typeOccurrenceDF.show()"
   ]
  },
  {
   "cell_type": "code",
   "execution_count": 60,
   "metadata": {},
   "outputs": [
    {
     "name": "stdout",
     "output_type": "stream",
     "text": [
      "Most and least frequent occurrences for lead_time:\n",
      "+---------+-----+\n",
      "|lead_time|count|\n",
      "+---------+-----+\n",
      "|        0| 6345|\n",
      "|        1| 3460|\n",
      "|        2| 2069|\n",
      "|        3| 1816|\n",
      "|        4| 1715|\n",
      "|        5| 1565|\n",
      "|        6| 1445|\n",
      "|        7| 1331|\n",
      "|        8| 1138|\n",
      "|       12| 1079|\n",
      "|       11| 1055|\n",
      "|        9|  992|\n",
      "|       10|  976|\n",
      "|       14|  965|\n",
      "|       16|  942|\n",
      "|       17|  881|\n",
      "|       19|  839|\n",
      "|       15|  839|\n",
      "|       34|  828|\n",
      "|       18|  826|\n",
      "+---------+-----+\n",
      "only showing top 20 rows\n",
      "\n"
     ]
    }
   ],
   "source": [
    "print (\"Most and least frequent occurrences for lead_time:\")\n",
    "lead_timeOccurrenceDF = booking_df.groupBy(\"lead_time\").count().sort(col(\"count\").desc())\n",
    "lead_timeOccurrenceDF.show()"
   ]
  },
  {
   "cell_type": "code",
   "execution_count": 61,
   "metadata": {
    "scrolled": true
   },
   "outputs": [
    {
     "name": "stdout",
     "output_type": "stream",
     "text": [
      "Most and least frequent occurrences for meal:\n",
      "+---------+-----+\n",
      "|     meal|count|\n",
      "+---------+-----+\n",
      "|       BB|92310|\n",
      "|       HB|14463|\n",
      "|       SC|10650|\n",
      "|Undefined| 1169|\n",
      "|       FB|  798|\n",
      "+---------+-----+\n",
      "\n"
     ]
    }
   ],
   "source": [
    "print (\"Most and least frequent occurrences for meal:\")\n",
    "mealOccurrenceDF = booking_df.groupBy(\"meal\").count().sort(col(\"count\").desc())\n",
    "mealOccurrenceDF.show()"
   ]
  },
  {
   "cell_type": "markdown",
   "metadata": {},
   "source": [
    "According to the data source, the defintion of the types of meal are:\n",
    "\n",
    "- Undefined/SC – no meal package; \n",
    "- BB – Bed & Breakfast; \n",
    "- HB – Half board (breakfast and one other meal – usually dinner); \n",
    "- FB – Full board (breakfast, lunch and dinner)"
   ]
  },
  {
   "cell_type": "code",
   "execution_count": 62,
   "metadata": {},
   "outputs": [
    {
     "name": "stdout",
     "output_type": "stream",
     "text": [
      "Most and least frequent occurrences for adr:\n",
      "+-----+-----+\n",
      "|  adr|count|\n",
      "+-----+-----+\n",
      "| 62.0| 3754|\n",
      "| 75.0| 2715|\n",
      "| 90.0| 2473|\n",
      "| 65.0| 2418|\n",
      "|  0.0| 1959|\n",
      "| 80.0| 1889|\n",
      "| 95.0| 1661|\n",
      "|120.0| 1607|\n",
      "|100.0| 1573|\n",
      "| 85.0| 1538|\n",
      "|110.0| 1525|\n",
      "| 60.0| 1313|\n",
      "|130.0| 1275|\n",
      "| 48.0| 1123|\n",
      "|115.0| 1080|\n",
      "| 70.0| 1044|\n",
      "| 99.0|  905|\n",
      "|140.0|  866|\n",
      "|126.0|  852|\n",
      "|108.0|  818|\n",
      "+-----+-----+\n",
      "only showing top 20 rows\n",
      "\n"
     ]
    }
   ],
   "source": [
    "print (\"Most and least frequent occurrences for adr:\")\n",
    "adrOccurrenceDF = booking_df.groupBy(\"adr\").count().sort(col(\"count\").desc())\n",
    "adrOccurrenceDF.show()"
   ]
  },
  {
   "cell_type": "markdown",
   "metadata": {},
   "source": [
    "`adr` stands for **Average Daily Rate**, which is calculated by the sum of revenue from the booking divided by the length of stay.\n",
    "\n",
    "Because our data consists of booking from 2 hotels, we could see they are quite some repetive values in `adr`.\n",
    "\n",
    "We could further bin the price into categories, and investigate those bookings with an average daily rate of 0."
   ]
  },
  {
   "cell_type": "code",
   "execution_count": 63,
   "metadata": {
    "scrolled": true
   },
   "outputs": [
    {
     "name": "stdout",
     "output_type": "stream",
     "text": [
      "Most and least frequent occurrences for total_of_special_requests:\n",
      "+-------------------------+-----+\n",
      "|total_of_special_requests|count|\n",
      "+-------------------------+-----+\n",
      "|                        0|70318|\n",
      "|                        1|33226|\n",
      "|                        2|12969|\n",
      "|                        3| 2497|\n",
      "|                        4|  340|\n",
      "|                        5|   40|\n",
      "+-------------------------+-----+\n",
      "\n"
     ]
    }
   ],
   "source": [
    "print (\"Most and least frequent occurrences for total_of_special_requests:\")\n",
    "total_of_special_requestsOccurrenceDF = booking_df.groupBy(\"total_of_special_requests\").count().sort(col(\"count\").desc())\n",
    "total_of_special_requestsOccurrenceDF.show()"
   ]
  },
  {
   "cell_type": "code",
   "execution_count": 64,
   "metadata": {},
   "outputs": [
    {
     "name": "stdout",
     "output_type": "stream",
     "text": [
      "Most and least frequent occurrences for required_car_parking_spaces:\n",
      "+---------------------------+------+\n",
      "|required_car_parking_spaces| count|\n",
      "+---------------------------+------+\n",
      "|                          0|111974|\n",
      "|                          1|  7383|\n",
      "|                          2|    28|\n",
      "|                          3|     3|\n",
      "|                          8|     2|\n",
      "+---------------------------+------+\n",
      "\n"
     ]
    }
   ],
   "source": [
    "print (\"Most and least frequent occurrences for required_car_parking_spaces:\")\n",
    "required_car_parking_spacesOccurrenceDF = booking_df.groupBy(\"required_car_parking_spaces\").count().sort(col(\"count\").desc())\n",
    "required_car_parking_spacesOccurrenceDF.show()"
   ]
  },
  {
   "cell_type": "code",
   "execution_count": 65,
   "metadata": {},
   "outputs": [
    {
     "name": "stdout",
     "output_type": "stream",
     "text": [
      "Most and least frequent occurrences for stays_in_weekend_nights:\n",
      "+-----------------------+-----+\n",
      "|stays_in_weekend_nights|count|\n",
      "+-----------------------+-----+\n",
      "|                      0|51998|\n",
      "|                      2|33308|\n",
      "|                      1|30626|\n",
      "|                      4| 1855|\n",
      "|                      3| 1259|\n",
      "|                      6|  153|\n",
      "|                      5|   79|\n",
      "|                      8|   60|\n",
      "|                      7|   19|\n",
      "|                      9|   11|\n",
      "|                     10|    7|\n",
      "|                     12|    5|\n",
      "|                     13|    3|\n",
      "|                     16|    3|\n",
      "|                     14|    2|\n",
      "|                     19|    1|\n",
      "|                     18|    1|\n",
      "+-----------------------+-----+\n",
      "\n"
     ]
    }
   ],
   "source": [
    "print (\"Most and least frequent occurrences for stays_in_weekend_nights:\")\n",
    "stays_in_weekend_nightsOccurrenceDF = booking_df.groupBy(\"stays_in_weekend_nights\").count().sort(col(\"count\").desc())\n",
    "stays_in_weekend_nightsOccurrenceDF.show()"
   ]
  },
  {
   "cell_type": "code",
   "execution_count": 66,
   "metadata": {},
   "outputs": [
    {
     "name": "stdout",
     "output_type": "stream",
     "text": [
      "Most and least frequent occurrences for stays_in_week_nights:\n",
      "+--------------------+-----+\n",
      "|stays_in_week_nights|count|\n",
      "+--------------------+-----+\n",
      "|                   2|33684|\n",
      "|                   1|30310|\n",
      "|                   3|22258|\n",
      "|                   5|11077|\n",
      "|                   4| 9563|\n",
      "|                   0| 7645|\n",
      "|                   6| 1499|\n",
      "|                  10| 1036|\n",
      "|                   7| 1029|\n",
      "|                   8|  656|\n",
      "|                   9|  231|\n",
      "|                  15|   85|\n",
      "|                  11|   56|\n",
      "|                  19|   44|\n",
      "|                  12|   42|\n",
      "|                  20|   41|\n",
      "|                  14|   35|\n",
      "|                  13|   27|\n",
      "|                  16|   16|\n",
      "|                  21|   15|\n",
      "+--------------------+-----+\n",
      "only showing top 20 rows\n",
      "\n"
     ]
    }
   ],
   "source": [
    "print (\"Most and least frequent occurrences for stays_in_week_nights:\")\n",
    "stays_in_week_nightsOccurrenceDF = booking_df.groupBy(\"stays_in_week_nights\").count().sort(col(\"count\").desc())\n",
    "stays_in_week_nightsOccurrenceDF.show()"
   ]
  },
  {
   "cell_type": "markdown",
   "metadata": {},
   "source": [
    "### D. Issue related columns basic profiling"
   ]
  },
  {
   "cell_type": "code",
   "execution_count": 67,
   "metadata": {},
   "outputs": [],
   "source": [
    "issue_related_columns = [\"is_canceled\", \"previous_cancellations\", \"booking_changes\", \"reservation_status\"]"
   ]
  },
  {
   "cell_type": "code",
   "execution_count": 68,
   "metadata": {},
   "outputs": [
    {
     "name": "stdout",
     "output_type": "stream",
     "text": [
      "Summary of issue related columns:\n",
      "+-------+-------------------+----------------------+-------------------+------------------+\n",
      "|summary|        is_canceled|previous_cancellations|    booking_changes|reservation_status|\n",
      "+-------+-------------------+----------------------+-------------------+------------------+\n",
      "|  count|             119390|                119390|             119390|            119390|\n",
      "|   mean|0.37041628277075134|   0.08711784906608594|0.22112404724013737|              null|\n",
      "| stddev|0.48291822659259803|    0.8443363841545121| 0.6523055726747705|              null|\n",
      "|    min|                  0|                     0|                  0|          Canceled|\n",
      "|    25%|                  0|                     0|                  0|              null|\n",
      "|    50%|                  0|                     0|                  0|              null|\n",
      "|    75%|                  1|                     0|                  0|              null|\n",
      "|    max|                  1|                    26|                 21|           No-Show|\n",
      "+-------+-------------------+----------------------+-------------------+------------------+\n",
      "\n"
     ]
    }
   ],
   "source": [
    "print(\"Summary of issue related columns:\")\n",
    "\n",
    "booking_df.select(issue_related_columns).summary().show()"
   ]
  },
  {
   "cell_type": "code",
   "execution_count": 69,
   "metadata": {},
   "outputs": [
    {
     "name": "stdout",
     "output_type": "stream",
     "text": [
      "Checking for nulls in the issue related columns:\n",
      "+-----------+----------------------+---------------+------------------+\n",
      "|is_canceled|previous_cancellations|booking_changes|reservation_status|\n",
      "+-----------+----------------------+---------------+------------------+\n",
      "|          0|                     0|              0|                 0|\n",
      "+-----------+----------------------+---------------+------------------+\n",
      "\n"
     ]
    }
   ],
   "source": [
    "print(\"Checking for nulls in the issue related columns:\")\n",
    "\n",
    "booking_df.select([count(when(col(c).isNull(), c)).alias(c) for c in issue_related_columns]).show()"
   ]
  },
  {
   "cell_type": "code",
   "execution_count": 70,
   "metadata": {},
   "outputs": [
    {
     "name": "stdout",
     "output_type": "stream",
     "text": [
      "Most and least frequent occurrences for is_canceled:\n",
      "+-----------+-----+\n",
      "|is_canceled|count|\n",
      "+-----------+-----+\n",
      "|          0|75166|\n",
      "|          1|44224|\n",
      "+-----------+-----+\n",
      "\n"
     ]
    }
   ],
   "source": [
    "print (\"Most and least frequent occurrences for is_canceled:\")\n",
    "is_canceledOccurrenceDF = booking_df.groupBy(\"is_canceled\").count().sort(col(\"count\").desc())\n",
    "is_canceledOccurrenceDF.show()"
   ]
  },
  {
   "cell_type": "code",
   "execution_count": 71,
   "metadata": {},
   "outputs": [
    {
     "name": "stdout",
     "output_type": "stream",
     "text": [
      "Most and least frequent occurrences for previous_cancellations:\n",
      "+----------------------+------+\n",
      "|previous_cancellations| count|\n",
      "+----------------------+------+\n",
      "|                     0|112906|\n",
      "|                     1|  6051|\n",
      "|                     2|   116|\n",
      "|                     3|    65|\n",
      "|                    24|    48|\n",
      "|                    11|    35|\n",
      "|                     4|    31|\n",
      "|                    26|    26|\n",
      "|                    25|    25|\n",
      "|                     6|    22|\n",
      "|                     5|    19|\n",
      "|                    19|    19|\n",
      "|                    14|    14|\n",
      "|                    13|    12|\n",
      "|                    21|     1|\n",
      "+----------------------+------+\n",
      "\n"
     ]
    }
   ],
   "source": [
    "print (\"Most and least frequent occurrences for previous_cancellations:\")\n",
    "previous_cancellationsOccurrenceDF = booking_df.groupBy(\"previous_cancellations\").count().sort(col(\"count\").desc())\n",
    "previous_cancellationsOccurrenceDF.show()"
   ]
  },
  {
   "cell_type": "code",
   "execution_count": 72,
   "metadata": {},
   "outputs": [
    {
     "name": "stdout",
     "output_type": "stream",
     "text": [
      "Most and least frequent occurrences for booking_changes:\n",
      "+---------------+------+\n",
      "|booking_changes| count|\n",
      "+---------------+------+\n",
      "|              0|101314|\n",
      "|              1| 12701|\n",
      "|              2|  3805|\n",
      "|              3|   927|\n",
      "|              4|   376|\n",
      "|              5|   118|\n",
      "|              6|    63|\n",
      "|              7|    31|\n",
      "|              8|    17|\n",
      "|              9|     8|\n",
      "|             10|     6|\n",
      "|             13|     5|\n",
      "|             14|     5|\n",
      "|             15|     3|\n",
      "|             12|     2|\n",
      "|             16|     2|\n",
      "|             11|     2|\n",
      "|             17|     2|\n",
      "|             20|     1|\n",
      "|             21|     1|\n",
      "+---------------+------+\n",
      "only showing top 20 rows\n",
      "\n"
     ]
    }
   ],
   "source": [
    "print (\"Most and least frequent occurrences for booking_changes:\")\n",
    "booking_changesOccurrenceDF = booking_df.groupBy(\"booking_changes\").count().sort(col(\"count\").desc())\n",
    "booking_changesOccurrenceDF.show()"
   ]
  },
  {
   "cell_type": "code",
   "execution_count": 73,
   "metadata": {},
   "outputs": [
    {
     "name": "stdout",
     "output_type": "stream",
     "text": [
      "Most and least frequent occurrences for reservation_status:\n",
      "+------------------+-----+\n",
      "|reservation_status|count|\n",
      "+------------------+-----+\n",
      "|         Check-Out|75166|\n",
      "|          Canceled|43017|\n",
      "|           No-Show| 1207|\n",
      "+------------------+-----+\n",
      "\n"
     ]
    }
   ],
   "source": [
    "print (\"Most and least frequent occurrences for reservation_status:\")\n",
    "reservation_statusOccurrenceDF = booking_df.groupBy(\"reservation_status\").count().sort(col(\"count\").desc())\n",
    "reservation_statusOccurrenceDF.show()"
   ]
  },
  {
   "cell_type": "code",
   "execution_count": 74,
   "metadata": {},
   "outputs": [
    {
     "data": {
      "text/plain": [
       "44224"
      ]
     },
     "execution_count": 74,
     "metadata": {},
     "output_type": "execute_result"
    }
   ],
   "source": [
    "43017 + 1207"
   ]
  },
  {
   "cell_type": "markdown",
   "metadata": {},
   "source": [
    "By adding `Canceled` and `No-Show`, we get the count of `is_canceld`. In other words, if we want further details on the cancellation of an order, we could use `reservation_status`."
   ]
  },
  {
   "cell_type": "markdown",
   "metadata": {},
   "source": [
    "## 5. Answer some business questions to understand the possible factors of cancelation"
   ]
  },
  {
   "cell_type": "markdown",
   "metadata": {},
   "source": [
    "### A. Create and new columns & segmentations of the dataset\n",
    "\n",
    "We will create the following new columns:\n",
    "- **total_headcount**: `adults` + `children` + `babies`\n",
    "- **guest_size**: bin the `total_headcount` into 4 categories: *solo*, *couple*, *small_group*, *big_group*\n",
    "- **is_family**: if `children` or `babies` is not 0\n",
    "- **is_agent**: if `agent` != 0 (we've recoded the null values in this column to 0)\n",
    "- **is_company**: if `company` != 0 (we've recoded the null values in this column to 0)\n",
    "- **adr_cat**: bin the `adr` column into 3 categories: *below_average*, *average*, *above_average*\n",
    "- **lead_time_cat**: bin the `lead_time` into 4 categories: *same_day*, *short*, *medium*, *long*\n",
    "- **total_stays**: `stays_in_weekend_nights` + `stays_in_week_nights`\n",
    "- **stay_length_cat**: bin the `total_stays` into 5 categories: *one*, *two*, *three*, *medium*, *long*\n",
    "- **booking_change_cat**: bin `booking_changes` into 4 categories: *none*, *one*, *some*, *many*\n",
    "\n",
    "\n",
    "We will break the current DF into a two smaller ones to better understand each hotel.\n",
    "- **cityHotelDF**: orders for city hotel\n",
    "- **resortHotelDF**: orders for resort hotel\n"
   ]
  },
  {
   "cell_type": "markdown",
   "metadata": {},
   "source": [
    "Because `adr_cat` will be more hotel specific, we will create the column after spliting the dataset."
   ]
  },
  {
   "cell_type": "code",
   "execution_count": 75,
   "metadata": {},
   "outputs": [],
   "source": [
    "booking_df = booking_df.withColumn(\"total_headcount\", booking_df.adults + booking_df.children + booking_df.babies)"
   ]
  },
  {
   "cell_type": "code",
   "execution_count": 76,
   "metadata": {
    "scrolled": true
   },
   "outputs": [
    {
     "name": "stdout",
     "output_type": "stream",
     "text": [
      "+-------+------------------+\n",
      "|summary|   total_headcount|\n",
      "+-------+------------------+\n",
      "|  count|            119390|\n",
      "|   mean|1.9682385459418712|\n",
      "| stddev|0.7223942426586695|\n",
      "|    min|                 0|\n",
      "|    25%|                 2|\n",
      "|    50%|                 2|\n",
      "|    75%|                 2|\n",
      "|    max|                55|\n",
      "+-------+------------------+\n",
      "\n"
     ]
    }
   ],
   "source": [
    "booking_df.select(\"total_headcount\").summary().show()"
   ]
  },
  {
   "cell_type": "code",
   "execution_count": 77,
   "metadata": {
    "scrolled": false
   },
   "outputs": [
    {
     "name": "stdout",
     "output_type": "stream",
     "text": [
      "+---------------+-----+\n",
      "|total_headcount|count|\n",
      "+---------------+-----+\n",
      "|              2|82051|\n",
      "|              1|22581|\n",
      "|              3|10495|\n",
      "|              4| 3929|\n",
      "|              0|  180|\n",
      "|              5|  137|\n",
      "|             26|    5|\n",
      "|             27|    2|\n",
      "|             12|    2|\n",
      "|             20|    2|\n",
      "|             10|    2|\n",
      "|              6|    1|\n",
      "|             55|    1|\n",
      "|             40|    1|\n",
      "|             50|    1|\n",
      "+---------------+-----+\n",
      "\n"
     ]
    }
   ],
   "source": [
    "booking_df.groupBy(\"total_headcount\").count().sort(col(\"count\").desc()).show()"
   ]
  },
  {
   "cell_type": "code",
   "execution_count": 78,
   "metadata": {},
   "outputs": [],
   "source": [
    "booking_df = booking_df.withColumn(\"guest_size\", when(col(\"total_headcount\") == 1, \"1. solo\")\n",
    "                                                .when(col(\"total_headcount\") == 2, \"2. couple\")\n",
    "                                                .when((col(\"total_headcount\") >2) & (col(\"total_headcount\") < 6), \"3. small_group\")\n",
    "                                                .otherwise(\"4. big_group\")\n",
    "                               )"
   ]
  },
  {
   "cell_type": "code",
   "execution_count": 79,
   "metadata": {
    "scrolled": true
   },
   "outputs": [
    {
     "name": "stdout",
     "output_type": "stream",
     "text": [
      "+--------------+-----+\n",
      "|    guest_size|count|\n",
      "+--------------+-----+\n",
      "|     2. couple|82051|\n",
      "|       1. solo|22581|\n",
      "|3. small_group|14561|\n",
      "|  4. big_group|  197|\n",
      "+--------------+-----+\n",
      "\n"
     ]
    }
   ],
   "source": [
    "booking_df.groupBy(\"guest_size\").count().sort(col(\"count\").desc()).show()"
   ]
  },
  {
   "cell_type": "code",
   "execution_count": 80,
   "metadata": {
    "scrolled": true
   },
   "outputs": [
    {
     "name": "stdout",
     "output_type": "stream",
     "text": [
      "+------------+--------------+-----+\n",
      "|       hotel|    guest_size|count|\n",
      "+------------+--------------+-----+\n",
      "|Resort Hotel|       1. solo| 7013|\n",
      "|  City Hotel|       1. solo|15568|\n",
      "|  City Hotel|     2. couple|53935|\n",
      "|Resort Hotel|     2. couple|28116|\n",
      "|Resort Hotel|3. small_group| 4903|\n",
      "|  City Hotel|3. small_group| 9658|\n",
      "|  City Hotel|  4. big_group|  169|\n",
      "|Resort Hotel|  4. big_group|   28|\n",
      "+------------+--------------+-----+\n",
      "\n"
     ]
    }
   ],
   "source": [
    "booking_df.groupBy(\"hotel\",\"guest_size\").count().sort(col(\"guest_size\")).show()"
   ]
  },
  {
   "cell_type": "code",
   "execution_count": 81,
   "metadata": {},
   "outputs": [],
   "source": [
    "booking_df = booking_df.withColumn(\"is_family\", when((booking_df.children + booking_df.babies) > 0, 1)\n",
    "                                .otherwise(0))"
   ]
  },
  {
   "cell_type": "code",
   "execution_count": 82,
   "metadata": {},
   "outputs": [],
   "source": [
    "booking_df = booking_df.withColumn(\"is_agent\", when(booking_df.agent > 0, \"1\")\n",
    "                                .otherwise(0))"
   ]
  },
  {
   "cell_type": "code",
   "execution_count": 83,
   "metadata": {},
   "outputs": [],
   "source": [
    "booking_df = booking_df.withColumn(\"is_company\", when(booking_df.company > 0, 1)\n",
    "                                .otherwise(0))"
   ]
  },
  {
   "cell_type": "code",
   "execution_count": 84,
   "metadata": {},
   "outputs": [],
   "source": [
    "booking_df = booking_df.withColumn(\"total_stays\", booking_df.stays_in_weekend_nights + booking_df.stays_in_week_nights)"
   ]
  },
  {
   "cell_type": "code",
   "execution_count": 85,
   "metadata": {
    "scrolled": true
   },
   "outputs": [
    {
     "name": "stdout",
     "output_type": "stream",
     "text": [
      "+-----------+-----+\n",
      "|total_stays|count|\n",
      "+-----------+-----+\n",
      "|          2|27643|\n",
      "|          3|27076|\n",
      "|          1|21020|\n",
      "|          4|17383|\n",
      "|          7| 8655|\n",
      "|          5| 7784|\n",
      "|          6| 3857|\n",
      "|          8| 1161|\n",
      "|         10| 1139|\n",
      "|         14|  916|\n",
      "|          9|  841|\n",
      "|          0|  715|\n",
      "|         11|  396|\n",
      "|         12|  223|\n",
      "|         13|  142|\n",
      "|         15|   75|\n",
      "|         21|   71|\n",
      "|         16|   40|\n",
      "|         25|   37|\n",
      "|         28|   35|\n",
      "+-----------+-----+\n",
      "only showing top 20 rows\n",
      "\n"
     ]
    }
   ],
   "source": [
    "booking_df.groupBy(\"total_stays\").count().sort(col(\"count\").desc()).show()"
   ]
  },
  {
   "cell_type": "code",
   "execution_count": 86,
   "metadata": {
    "scrolled": false
   },
   "outputs": [
    {
     "name": "stdout",
     "output_type": "stream",
     "text": [
      "+-------+------------------+\n",
      "|summary|       total_stays|\n",
      "+-------+------------------+\n",
      "|  count|            119390|\n",
      "|   mean|3.4279001591423066|\n",
      "| stddev| 2.557438669051983|\n",
      "|    min|                 0|\n",
      "|    25%|                 2|\n",
      "|    50%|                 3|\n",
      "|    75%|                 4|\n",
      "|    max|                69|\n",
      "+-------+------------------+\n",
      "\n"
     ]
    }
   ],
   "source": [
    "booking_df.select(\"total_stays\").summary().show()"
   ]
  },
  {
   "cell_type": "code",
   "execution_count": 87,
   "metadata": {},
   "outputs": [],
   "source": [
    "booking_df = booking_df.withColumn(\"stay_length_cat\", when(col(\"total_stays\") == 1, \"1. one\")\n",
    "                                                     .when(col(\"total_stays\") == 2, \"2. two\")\n",
    "                                                     .when(col(\"total_stays\") == 3, \"3. three\")\n",
    "                                                     .when((col(\"total_stays\") > 3 ) & (col(\"total_stays\") < 7), \"4. medium\")\n",
    "                                                     .otherwise(\"5. long\")\n",
    "                               )"
   ]
  },
  {
   "cell_type": "code",
   "execution_count": 88,
   "metadata": {
    "scrolled": true
   },
   "outputs": [
    {
     "name": "stdout",
     "output_type": "stream",
     "text": [
      "+---------------+-----+\n",
      "|stay_length_cat|count|\n",
      "+---------------+-----+\n",
      "|      4. medium|29024|\n",
      "|         2. two|27643|\n",
      "|       3. three|27076|\n",
      "|         1. one|21020|\n",
      "|        5. long|14627|\n",
      "+---------------+-----+\n",
      "\n"
     ]
    }
   ],
   "source": [
    "booking_df.groupBy(\"stay_length_cat\").count().sort(col(\"count\").desc()).show()"
   ]
  },
  {
   "cell_type": "code",
   "execution_count": 89,
   "metadata": {
    "scrolled": false
   },
   "outputs": [
    {
     "name": "stdout",
     "output_type": "stream",
     "text": [
      "+-------+------------------+\n",
      "|summary|         lead_time|\n",
      "+-------+------------------+\n",
      "|  count|            119390|\n",
      "|   mean|104.01141636652986|\n",
      "| stddev| 106.8630970479881|\n",
      "|    min|                 0|\n",
      "|    25%|                18|\n",
      "|    50%|                69|\n",
      "|    75%|               160|\n",
      "|    max|               737|\n",
      "+-------+------------------+\n",
      "\n"
     ]
    }
   ],
   "source": [
    "booking_df.select(\"lead_time\").summary().show()"
   ]
  },
  {
   "cell_type": "code",
   "execution_count": 90,
   "metadata": {
    "scrolled": false
   },
   "outputs": [
    {
     "name": "stdout",
     "output_type": "stream",
     "text": [
      "+---------+-----+\n",
      "|lead_time|count|\n",
      "+---------+-----+\n",
      "|        0| 6345|\n",
      "|        1| 3460|\n",
      "|        2| 2069|\n",
      "|        3| 1816|\n",
      "|        4| 1715|\n",
      "|        5| 1565|\n",
      "|        6| 1445|\n",
      "|        7| 1331|\n",
      "|        8| 1138|\n",
      "|       12| 1079|\n",
      "|       11| 1055|\n",
      "|        9|  992|\n",
      "|       10|  976|\n",
      "|       14|  965|\n",
      "|       16|  942|\n",
      "|       17|  881|\n",
      "|       15|  839|\n",
      "|       19|  839|\n",
      "|       34|  828|\n",
      "|       18|  826|\n",
      "+---------+-----+\n",
      "only showing top 20 rows\n",
      "\n"
     ]
    }
   ],
   "source": [
    "booking_df.groupBy(\"lead_time\").count().sort(col(\"count\").desc()).show()"
   ]
  },
  {
   "cell_type": "code",
   "execution_count": 91,
   "metadata": {},
   "outputs": [],
   "source": [
    "booking_df = booking_df.withColumn(\"lead_time_cat\", when(col(\"lead_time\") == 0, \"1. same_day\")\n",
    "                                      .when((col(\"lead_time\") > 0 ) & (col(\"lead_time\") <= 7), \"2. short\")\n",
    "                                      .when((col(\"lead_time\") > 7 ) & (col(\"lead_time\") <= 90), \"3. medium\")\n",
    "                                      .when((col(\"lead_time\") > 90 ) & (col(\"lead_time\") <= 180), \"4. long\")\n",
    "                                      .otherwise(\"5. super_long\")\n",
    "                               )"
   ]
  },
  {
   "cell_type": "code",
   "execution_count": 92,
   "metadata": {
    "scrolled": true
   },
   "outputs": [
    {
     "name": "stdout",
     "output_type": "stream",
     "text": [
      "+-------------+-----+\n",
      "|lead_time_cat|count|\n",
      "+-------------+-----+\n",
      "|    3. medium|48513|\n",
      "|      4. long|26439|\n",
      "|5. super_long|24692|\n",
      "|     2. short|13401|\n",
      "|  1. same_day| 6345|\n",
      "+-------------+-----+\n",
      "\n"
     ]
    }
   ],
   "source": [
    "booking_df.groupBy(\"lead_time_cat\").count().sort(col(\"count\").desc()).show()"
   ]
  },
  {
   "cell_type": "code",
   "execution_count": 93,
   "metadata": {},
   "outputs": [
    {
     "name": "stdout",
     "output_type": "stream",
     "text": [
      "+-------+-------------------+\n",
      "|summary|    booking_changes|\n",
      "+-------+-------------------+\n",
      "|  count|             119390|\n",
      "|   mean|0.22112404724013737|\n",
      "| stddev| 0.6523055726747705|\n",
      "|    min|                  0|\n",
      "|    25%|                  0|\n",
      "|    50%|                  0|\n",
      "|    75%|                  0|\n",
      "|    max|                 21|\n",
      "+-------+-------------------+\n",
      "\n"
     ]
    }
   ],
   "source": [
    "booking_df.select(\"booking_changes\").summary().show()"
   ]
  },
  {
   "cell_type": "code",
   "execution_count": 94,
   "metadata": {},
   "outputs": [
    {
     "name": "stdout",
     "output_type": "stream",
     "text": [
      "+---------------+------+\n",
      "|booking_changes| count|\n",
      "+---------------+------+\n",
      "|              0|101314|\n",
      "|              1| 12701|\n",
      "|              2|  3805|\n",
      "|              3|   927|\n",
      "|              4|   376|\n",
      "|              5|   118|\n",
      "|              6|    63|\n",
      "|              7|    31|\n",
      "|              8|    17|\n",
      "|              9|     8|\n",
      "|             10|     6|\n",
      "|             13|     5|\n",
      "|             14|     5|\n",
      "|             15|     3|\n",
      "|             12|     2|\n",
      "|             16|     2|\n",
      "|             11|     2|\n",
      "|             17|     2|\n",
      "|             20|     1|\n",
      "|             21|     1|\n",
      "+---------------+------+\n",
      "only showing top 20 rows\n",
      "\n"
     ]
    }
   ],
   "source": [
    "booking_df.groupBy(\"booking_changes\").count().sort(col(\"count\").desc()).show()"
   ]
  },
  {
   "cell_type": "code",
   "execution_count": 95,
   "metadata": {},
   "outputs": [],
   "source": [
    "booking_df = booking_df.withColumn(\"booking_change_cat\", when(col(\"booking_changes\") == 0, \"1. none\")\n",
    "                                      .when(col(\"lead_time\")  == 1, \"2. one\")\n",
    "                                      .when((col(\"lead_time\") > 1 ) & (col(\"lead_time\") <= 5), \"3. some\")\n",
    "                                      .otherwise(\"4. many\")\n",
    "                                   )"
   ]
  },
  {
   "cell_type": "code",
   "execution_count": 96,
   "metadata": {},
   "outputs": [],
   "source": [
    "booking_df = booking_df.withColumn(\"season_cat\", when((col(\"arrival_date_month\") == 8) | \n",
    "                                         (col(\"arrival_date_month\") == 7) |\n",
    "                                         (col(\"arrival_date_month\") == 5) |\n",
    "                                         (col(\"arrival_date_month\") == 10),\"1. high season\")\n",
    "                                   .when((col(\"arrival_date_month\") == 2) | \n",
    "                                         (col(\"arrival_date_month\") == 11) |\n",
    "                                         (col(\"arrival_date_month\") == 12) |\n",
    "                                         (col(\"arrival_date_month\") == 1),\"3. low season\")\n",
    "                                   .otherwise(\"2. other\"))\n",
    "                               "
   ]
  },
  {
   "cell_type": "code",
   "execution_count": 97,
   "metadata": {},
   "outputs": [
    {
     "name": "stdout",
     "output_type": "stream",
     "text": [
      "+--------------+-----+\n",
      "|    season_cat|count|\n",
      "+--------------+-----+\n",
      "|1. high season|49489|\n",
      "|      2. other|42330|\n",
      "| 3. low season|27571|\n",
      "+--------------+-----+\n",
      "\n"
     ]
    }
   ],
   "source": [
    "booking_df.groupBy(\"season_cat\").count().sort(col(\"count\").desc()).show()"
   ]
  },
  {
   "cell_type": "markdown",
   "metadata": {},
   "source": [
    "---"
   ]
  },
  {
   "cell_type": "code",
   "execution_count": 98,
   "metadata": {},
   "outputs": [],
   "source": [
    "cityHotelDF = booking_df.where(col(\"hotel\") == \"City Hotel\").cache()"
   ]
  },
  {
   "cell_type": "code",
   "execution_count": 99,
   "metadata": {},
   "outputs": [],
   "source": [
    "resortHotelDF = booking_df.where(col(\"hotel\") == \"Resort Hotel\").cache()"
   ]
  },
  {
   "cell_type": "code",
   "execution_count": 100,
   "metadata": {
    "scrolled": true
   },
   "outputs": [
    {
     "name": "stdout",
     "output_type": "stream",
     "text": [
      "+-------+------------------+\n",
      "|summary|               adr|\n",
      "+-------+------------------+\n",
      "|  count|             79330|\n",
      "|   mean|105.30446539770196|\n",
      "| stddev| 43.60295383709462|\n",
      "|    min|               0.0|\n",
      "|    25%|              79.2|\n",
      "|    50%|              99.9|\n",
      "|    75%|             126.0|\n",
      "|    max|            5400.0|\n",
      "+-------+------------------+\n",
      "\n"
     ]
    }
   ],
   "source": [
    "cityHotelDF.select(\"adr\").summary().show()"
   ]
  },
  {
   "cell_type": "code",
   "execution_count": 101,
   "metadata": {},
   "outputs": [],
   "source": [
    "cityHotelDF = cityHotelDF.withColumn(\"adr_cat\", when(col(\"adr\") < 80, \"1. below_average\")\n",
    "                                               .when((col(\"adr\") >= 80) & (col(\"adr\") <= 125), \"2. average\")\n",
    "                                               .otherwise(\"3. above_average\"))             "
   ]
  },
  {
   "cell_type": "code",
   "execution_count": 102,
   "metadata": {
    "scrolled": true
   },
   "outputs": [
    {
     "name": "stdout",
     "output_type": "stream",
     "text": [
      "+----------------+-----+\n",
      "|         adr_cat|count|\n",
      "+----------------+-----+\n",
      "|1. below_average|20309|\n",
      "|      2. average|38559|\n",
      "|3. above_average|20462|\n",
      "+----------------+-----+\n",
      "\n"
     ]
    }
   ],
   "source": [
    "cityHotelDF.groupBy(\"adr_cat\").count().orderBy(\"adr_cat\").show()"
   ]
  },
  {
   "cell_type": "code",
   "execution_count": 103,
   "metadata": {
    "scrolled": false
   },
   "outputs": [
    {
     "name": "stdout",
     "output_type": "stream",
     "text": [
      "+-------+-----------------+\n",
      "|summary|              adr|\n",
      "+-------+-----------------+\n",
      "|  count|            40060|\n",
      "|   mean|94.95292960559225|\n",
      "| stddev|61.44241797380695|\n",
      "|    min|            -6.38|\n",
      "|    25%|             50.0|\n",
      "|    50%|             75.0|\n",
      "|    75%|            125.0|\n",
      "|    max|            508.0|\n",
      "+-------+-----------------+\n",
      "\n"
     ]
    }
   ],
   "source": [
    "resortHotelDF.select(\"adr\").summary().show()"
   ]
  },
  {
   "cell_type": "code",
   "execution_count": 104,
   "metadata": {},
   "outputs": [],
   "source": [
    "resortHotelDF = resortHotelDF.withColumn(\"adr_cat\", when(col(\"adr\") < 50, \"1. below_average\")\n",
    "                                                   .when((col(\"adr\") >= 50) & (col(\"adr\") <= 125), \"2. average\")\n",
    "                                                   .otherwise(\"3. above_average\"))    "
   ]
  },
  {
   "cell_type": "code",
   "execution_count": 105,
   "metadata": {
    "scrolled": false
   },
   "outputs": [
    {
     "name": "stdout",
     "output_type": "stream",
     "text": [
      "+----------------+-----+\n",
      "|         adr_cat|count|\n",
      "+----------------+-----+\n",
      "|1. below_average| 9724|\n",
      "|      2. average|20350|\n",
      "|3. above_average| 9986|\n",
      "+----------------+-----+\n",
      "\n"
     ]
    }
   ],
   "source": [
    "resortHotelDF.groupBy(\"adr_cat\").count().orderBy(\"adr_cat\").show()"
   ]
  },
  {
   "cell_type": "markdown",
   "metadata": {},
   "source": [
    "---"
   ]
  },
  {
   "cell_type": "markdown",
   "metadata": {},
   "source": [
    "### B. Comparsion across dimensions\n",
    "\n",
    "Dimension to compare:\n",
    "- Canceled vs not-canceled orders\n",
    "- City vs resort orders\n",
    "\n",
    "\n",
    "We will first compare all the numneric columns between the dimensions, \n",
    "The numeric columns are:\n",
    "- `lead_time`,`stays_in_weekend_nights`,`stays_in_week_nights`,`total_stays`, \n",
    "- `adults`,`children`,`adr`,`babies`,`total_headcount`,\n",
    "- `previous_cancellations`,`previous_bookings_not_canceled`,`booking_changes`, `days_in_waiting_list`, \n",
    "- `total_of_special_requests`, `required_car_parking_spaces`\n"
   ]
  },
  {
   "cell_type": "code",
   "execution_count": 119,
   "metadata": {
    "scrolled": true
   },
   "outputs": [
    {
     "name": "stdout",
     "output_type": "stream",
     "text": [
      "+------------+-----------+------------------+----------------------------+-------------------------+------------------+\n",
      "|       hotel|is_canceled|    avg(lead_time)|avg(stays_in_weekend_nights)|avg(stays_in_week_nights)|  avg(total_stays)|\n",
      "+------------+-----------+------------------+----------------------------+-------------------------+------------------+\n",
      "|  City Hotel|          0| 80.70273427360041|          0.8006835684001038|       2.1229341524617116|2.9236177208618153|\n",
      "|  City Hotel|          1|150.28122167844845|           0.787505286689626|       2.2667814633556884|3.0542867500453146|\n",
      "|Resort Hotel|          1|128.68054306779356|          1.3352814242042799|       3.4402985074626864| 4.775579931666966|\n",
      "|Resort Hotel|          0| 78.83761835648627|           1.133906973529615|        3.008984725965858| 4.142891699495473|\n",
      "+------------+-----------+------------------+----------------------------+-------------------------+------------------+\n",
      "\n"
     ]
    }
   ],
   "source": [
    "booking_df.groupby(\"hotel\",\"is_canceled\") \\\n",
    "           .mean(\"lead_time\",\"stays_in_weekend_nights\",\"stays_in_week_nights\",\"total_stays\")\\\n",
    "           .sort(\"hotel\") \\\n",
    "           .show()"
   ]
  },
  {
   "cell_type": "code",
   "execution_count": 120,
   "metadata": {},
   "outputs": [
    {
     "name": "stdout",
     "output_type": "stream",
     "text": [
      "+------------+-----------+------------------+-------------------+--------------------+--------------------+\n",
      "|       hotel|is_canceled|       avg(adults)|      avg(children)|         avg(babies)|avg(total_headcount)|\n",
      "+------------+-----------+------------------+-------------------+--------------------+--------------------+\n",
      "|  City Hotel|          1|1.8829073771977525|0.07945139266509577|0.001933417920367...|  1.9642921877832156|\n",
      "|  City Hotel|          0|1.8281128320498399|0.09989616682530068|0.007095266937786623|  1.9351042658129272|\n",
      "|Resort Hotel|          0|1.8323311908217568|0.10626166286543645|0.015619600525260903|  1.9542124542124542|\n",
      "|Resort Hotel|          1|1.9577414134148534|0.18701672361086136|0.009440748066894444|   2.154198885092609|\n",
      "+------------+-----------+------------------+-------------------+--------------------+--------------------+\n",
      "\n"
     ]
    }
   ],
   "source": [
    "booking_df.groupby(\"hotel\",\"is_canceled\") \\\n",
    "           .mean(\"adults\", \"children\",\"babies\", \"total_headcount\")\\\n",
    "           .sort(\"hotel\") \\\n",
    "           .show()"
   ]
  },
  {
   "cell_type": "code",
   "execution_count": 121,
   "metadata": {
    "scrolled": false
   },
   "outputs": [
    {
     "name": "stdout",
     "output_type": "stream",
     "text": [
      "+------------+-----------+---------------------------+-----------------------------------+--------------------+-------------------------+\n",
      "|       hotel|is_canceled|avg(previous_cancellations)|avg(previous_bookings_not_canceled)|avg(booking_changes)|avg(days_in_waiting_list)|\n",
      "+------------+-----------+---------------------------+-----------------------------------+--------------------+-------------------------+\n",
      "|  City Hotel|          0|       0.021156009344985724|                 0.2085099939430648|  0.2643635891667388|       2.1500822012633036|\n",
      "|  City Hotel|          1|        0.16156123497069663|               0.026040722614947737| 0.07984411818017038|        4.730409038728777|\n",
      "|Resort Hotel|          0|       0.007222337411016656|                0.19413919413919414|  0.3396917547860944|       0.6949339968207893|\n",
      "|Resort Hotel|          1|        0.34759935263441827|               0.022388059701492536| 0.15338967811544688|      0.09278906671461967|\n",
      "+------------+-----------+---------------------------+-----------------------------------+--------------------+-------------------------+\n",
      "\n"
     ]
    }
   ],
   "source": [
    "booking_df.groupby(\"hotel\",\"is_canceled\") \\\n",
    "           .mean(\"previous_cancellations\", \"previous_bookings_not_canceled\", \"booking_changes\", \"days_in_waiting_list\")\\\n",
    "           .sort(\"hotel\") \\\n",
    "           .show()"
   ]
  },
  {
   "cell_type": "code",
   "execution_count": 122,
   "metadata": {
    "scrolled": true
   },
   "outputs": [
    {
     "name": "stdout",
     "output_type": "stream",
     "text": [
      "+------------+-----------+------------------------------+--------------------------------+\n",
      "|       hotel|is_canceled|avg(total_of_special_requests)|avg(required_car_parking_spaces)|\n",
      "+------------+-----------+------------------------------+--------------------------------+\n",
      "|  City Hotel|          0|            0.7410876525049753|            0.041814484727870554|\n",
      "|  City Hotel|          1|            0.2757537308923932|                             0.0|\n",
      "|Resort Hotel|          0|            0.6708825765429539|              0.1911327666044647|\n",
      "|Resort Hotel|          1|            0.4867829527063478|                             0.0|\n",
      "+------------+-----------+------------------------------+--------------------------------+\n",
      "\n"
     ]
    }
   ],
   "source": [
    "booking_df.groupby(\"hotel\",\"is_canceled\") \\\n",
    "           .mean(\"total_of_special_requests\", \"required_car_parking_spaces\")\\\n",
    "           .sort(\"hotel\") \\\n",
    "           .show()"
   ]
  },
  {
   "cell_type": "markdown",
   "metadata": {},
   "source": [
    "We could see that in the resort hotel it tends to have more children & babies, whilst having more booking_changes"
   ]
  },
  {
   "cell_type": "markdown",
   "metadata": {},
   "source": [
    "---"
   ]
  },
  {
   "cell_type": "markdown",
   "metadata": {},
   "source": [
    "We will then investigate into other dimensions, comparing their cancelation rate:\n",
    "    \n",
    "- Guests with kids or not, also the number of guest\n",
    "- Booking through Company & customer type\n",
    "- Distribution channel, market segement & agents\n",
    "- Nationality\n",
    "- Meals\n",
    "- Lead time & number of changes made the booking\n",
    "- Lead time & Price\n",
    "- Lead time & deposit"
   ]
  },
  {
   "cell_type": "code",
   "execution_count": 123,
   "metadata": {},
   "outputs": [],
   "source": [
    "def cancelation_ratio(df, list_of_columns):\n",
    "    df1 = df.groupby(list_of_columns) \\\n",
    "          .sum(\"is_canceled\")\\\n",
    "          .orderBy(list_of_columns) \\\n",
    "          .select(col(\"sum(is_canceled)\").alias(\"cancel_count\"))\n",
    "    \n",
    "    df2 = df.groupby(list_of_columns) \\\n",
    "          .count()\\\n",
    "          .orderBy(list_of_columns)\n",
    "    \n",
    "    df1 = df1.withColumn(\"row_id\", monotonically_increasing_id())\n",
    "\n",
    "    df2 = df2.withColumn(\"row_id\", monotonically_increasing_id())\n",
    "\n",
    "    result_df = df2.join(df1, (\"row_id\")).drop(\"row_id\")\n",
    "    result_df = result_df.withColumn(\"cancelation_ratio\", round(col(\"cancel_count\")/col(\"count\"), 4))\n",
    "    \n",
    "    return(result_df)   "
   ]
  },
  {
   "cell_type": "markdown",
   "metadata": {},
   "source": [
    "---"
   ]
  },
  {
   "cell_type": "markdown",
   "metadata": {},
   "source": [
    "We first obtain the baseline of cancelation for each hotel."
   ]
  },
  {
   "cell_type": "code",
   "execution_count": 124,
   "metadata": {
    "scrolled": false
   },
   "outputs": [
    {
     "name": "stdout",
     "output_type": "stream",
     "text": [
      "+------------+-----+------------+-----------------+\n",
      "|       hotel|count|cancel_count|cancelation_ratio|\n",
      "+------------+-----+------------+-----------------+\n",
      "|  City Hotel|79330|       33102|           0.4173|\n",
      "|Resort Hotel|40060|       11122|           0.2776|\n",
      "+------------+-----+------------+-----------------+\n",
      "\n"
     ]
    }
   ],
   "source": [
    "column_list = ['hotel']\n",
    "hotel_df = cancelation_ratio(booking_df, column_list)\n",
    "hotel_df.show()"
   ]
  },
  {
   "cell_type": "markdown",
   "metadata": {},
   "source": [
    "---"
   ]
  },
  {
   "cell_type": "code",
   "execution_count": 125,
   "metadata": {
    "scrolled": true
   },
   "outputs": [
    {
     "name": "stdout",
     "output_type": "stream",
     "text": [
      "+------------+----------+---------------+-----+------------+-----------------+\n",
      "|       hotel|is_company|  customer_type|count|cancel_count|cancelation_ratio|\n",
      "+------------+----------+---------------+-----+------------+-----------------+\n",
      "|  City Hotel|         0|       Contract| 2298|        1105|           0.4809|\n",
      "|  City Hotel|         0|          Group|  276|          26|           0.0942|\n",
      "|  City Hotel|         0|      Transient|56840|       26526|           0.4667|\n",
      "|  City Hotel|         0|Transient-Party|16227|        4661|           0.2872|\n",
      "|  City Hotel|         1|       Contract|    2|           0|              0.0|\n",
      "|  City Hotel|         1|          Group|   17|           3|           0.1765|\n",
      "|  City Hotel|         1|      Transient| 2564|         572|           0.2231|\n",
      "|  City Hotel|         1|Transient-Party| 1106|         209|            0.189|\n",
      "|Resort Hotel|         0|       Contract| 1773|         157|           0.0886|\n",
      "|Resort Hotel|         0|          Group|  252|          29|           0.1151|\n",
      "|Resort Hotel|         0|      Transient|28621|        9147|           0.3196|\n",
      "|Resort Hotel|         0|Transient-Party| 6306|        1382|           0.2192|\n",
      "|Resort Hotel|         1|       Contract|    3|           0|              0.0|\n",
      "|Resort Hotel|         1|          Group|   32|           1|           0.0313|\n",
      "|Resort Hotel|         1|      Transient| 1588|         269|           0.1694|\n",
      "|Resort Hotel|         1|Transient-Party| 1485|         137|           0.0923|\n",
      "+------------+----------+---------------+-----+------------+-----------------+\n",
      "\n"
     ]
    }
   ],
   "source": [
    "hotel_company_customer_type = ['hotel', 'is_company', 'customer_type']\n",
    "hotel_company_customer_df = cancelation_ratio(booking_df, hotel_company_customer_type)\n",
    "hotel_company_customer_df.show()"
   ]
  },
  {
   "cell_type": "markdown",
   "metadata": {},
   "source": [
    "Group & Transient group orders have much lower cancelation rate across both hotels, while contract orders, though small, have a high cancellation rate especially for leisure travellers (not paid by companies) in the city hotel. \n"
   ]
  },
  {
   "cell_type": "markdown",
   "metadata": {},
   "source": [
    "---"
   ]
  },
  {
   "cell_type": "code",
   "execution_count": 126,
   "metadata": {
    "scrolled": true
   },
   "outputs": [
    {
     "name": "stdout",
     "output_type": "stream",
     "text": [
      "+------------+---------+--------------+-----+------------+-----------------+\n",
      "|       hotel|is_family|    guest_size|count|cancel_count|cancelation_ratio|\n",
      "+------------+---------+--------------+-----+------------+-----------------+\n",
      "|  City Hotel|        0|       1. solo|15564|        5372|           0.3452|\n",
      "|  City Hotel|        0|     2. couple|53526|       24090|           0.4501|\n",
      "|  City Hotel|        0|3. small_group| 4670|        1755|           0.3758|\n",
      "|  City Hotel|        0|  4. big_group|  167|          23|           0.1377|\n",
      "|  City Hotel|        1|       1. solo|    4|           0|              0.0|\n",
      "|  City Hotel|        1|     2. couple|  409|         129|           0.3154|\n",
      "|  City Hotel|        1|3. small_group| 4988|        1733|           0.3474|\n",
      "|  City Hotel|        1|  4. big_group|    2|           0|              0.0|\n",
      "|Resort Hotel|        0|       1. solo| 7013|        1183|           0.1687|\n",
      "|Resort Hotel|        0|     2. couple|28034|        8334|           0.2973|\n",
      "|Resort Hotel|        0|3. small_group| 1057|         192|           0.1816|\n",
      "|Resort Hotel|        0|  4. big_group|   27|          16|           0.5926|\n",
      "|Resort Hotel|        1|     2. couple|   82|          19|           0.2317|\n",
      "|Resort Hotel|        1|3. small_group| 3846|        1377|            0.358|\n",
      "|Resort Hotel|        1|  4. big_group|    1|           1|              1.0|\n",
      "+------------+---------+--------------+-----+------------+-----------------+\n",
      "\n"
     ]
    }
   ],
   "source": [
    "hotel_is_family_guest_size = ['hotel','is_family','guest_size']\n",
    "hotel_is_family_guest_size_df = cancelation_ratio(booking_df, hotel_is_family_guest_size)\n",
    "hotel_is_family_guest_size_df.show()"
   ]
  },
  {
   "cell_type": "markdown",
   "metadata": {},
   "source": [
    "Non-family couple travellers (cannot assume relationship, just mean it’s a party size of 2) are the most likely to cancel for the city hotel, maybe due to the fact that they are the biggest composition in terms of demographic for this hotel.\n",
    "\n",
    "For the resort hotel, the most likely to cancel are the non-family big groups, though they are little in number of orders. The more significant demographic which is prone to cancel is small families with children."
   ]
  },
  {
   "cell_type": "markdown",
   "metadata": {},
   "source": [
    "---"
   ]
  },
  {
   "cell_type": "code",
   "execution_count": 127,
   "metadata": {
    "scrolled": false
   },
   "outputs": [
    {
     "name": "stdout",
     "output_type": "stream",
     "text": [
      "+------------+--------+-----+------------+-----------------+\n",
      "|       hotel|is_agent|count|cancel_count|cancelation_ratio|\n",
      "+------------+--------+-----+------------+-----------------+\n",
      "|  City Hotel|       0| 8131|        2609|           0.3209|\n",
      "|  City Hotel|       1|71199|       30493|           0.4283|\n",
      "|Resort Hotel|       0| 8209|        1421|           0.1731|\n",
      "|Resort Hotel|       1|31851|        9701|           0.3046|\n",
      "+------------+--------+-----+------------+-----------------+\n",
      "\n"
     ]
    }
   ],
   "source": [
    "column_list = ['hotel','is_agent']\n",
    "hotel_agent_df = cancelation_ratio(booking_df, column_list)\n",
    "hotel_agent_df.show()"
   ]
  },
  {
   "cell_type": "markdown",
   "metadata": {},
   "source": [
    "We could observe that orders coming from agent seems to be higher, let's break it down further."
   ]
  },
  {
   "cell_type": "code",
   "execution_count": 128,
   "metadata": {},
   "outputs": [
    {
     "name": "stdout",
     "output_type": "stream",
     "text": [
      "+-----+-----+------------+-----------------+\n",
      "|agent|count|cancel_count|cancelation_ratio|\n",
      "+-----+-----+------------+-----------------+\n",
      "|  326|  160|         160|              1.0|\n",
      "|    5|  102|         102|              1.0|\n",
      "|  236|  247|         247|              1.0|\n",
      "|   31|  162|         154|           0.9506|\n",
      "|   58|  335|         295|           0.8806|\n",
      "|   29|  679|         544|           0.8012|\n",
      "|   44|  292|         232|           0.7945|\n",
      "|   19| 1061|         780|           0.7352|\n",
      "|    1| 7137|        5230|           0.7328|\n",
      "|  154|  187|         135|           0.7219|\n",
      "|  119|  304|         211|           0.6941|\n",
      "|   56|  375|         256|           0.6827|\n",
      "|   20|  540|         359|           0.6648|\n",
      "|  134|  195|         122|           0.6256|\n",
      "|  229|  786|         484|           0.6158|\n",
      "|   34|  293|         179|           0.6109|\n",
      "|   35|  109|          65|           0.5963|\n",
      "|    3| 1308|         767|           0.5864|\n",
      "|   37| 1230|         717|           0.5829|\n",
      "|   86|  338|         197|           0.5828|\n",
      "+-----+-----+------------+-----------------+\n",
      "only showing top 20 rows\n",
      "\n"
     ]
    }
   ],
   "source": [
    "column_list = ['agent']\n",
    "city_agent_df = cancelation_ratio(cityHotelDF, column_list)\n",
    "city_agent_df.sort(col(\"cancelation_ratio\").desc()).where(col(\"count\") > 100).show()"
   ]
  },
  {
   "cell_type": "code",
   "execution_count": 129,
   "metadata": {
    "scrolled": true
   },
   "outputs": [
    {
     "name": "stdout",
     "output_type": "stream",
     "text": [
      "+-----+-----+------------+-----------------+\n",
      "|agent|count|cancel_count|cancelation_ratio|\n",
      "+-----+-----+------------+-----------------+\n",
      "|   68|  211|         165|            0.782|\n",
      "|   11|  105|          75|           0.7143|\n",
      "|  248|  131|          83|           0.6336|\n",
      "|  134|  287|         177|           0.6167|\n",
      "|   67|  127|          76|           0.5984|\n",
      "|   38|  236|         132|           0.5593|\n",
      "|  208|  173|          95|           0.5491|\n",
      "|   96|  537|         244|           0.4544|\n",
      "|  315|  256|         102|           0.3984|\n",
      "|  240|13905|        5483|           0.3943|\n",
      "|   15|  242|          93|           0.3843|\n",
      "|  410|  133|          47|           0.3534|\n",
      "|  273|  349|         121|           0.3467|\n",
      "|  242|  779|         260|           0.3338|\n",
      "|  142|  137|          45|           0.3285|\n",
      "|  298|  472|         142|           0.3008|\n",
      "|  175|  195|          48|           0.2462|\n",
      "|  177|  327|          78|           0.2385|\n",
      "|  147|  133|          31|           0.2331|\n",
      "|    5|  228|          47|           0.2061|\n",
      "+-----+-----+------------+-----------------+\n",
      "only showing top 20 rows\n",
      "\n"
     ]
    }
   ],
   "source": [
    "column_list = ['agent']\n",
    "resort_agent_df = cancelation_ratio(resortHotelDF, column_list)\n",
    "resort_agent_df.sort(col(\"cancelation_ratio\").desc()).where(col(\"count\") > 100).show()"
   ]
  },
  {
   "cell_type": "markdown",
   "metadata": {},
   "source": [
    "---"
   ]
  },
  {
   "cell_type": "code",
   "execution_count": 131,
   "metadata": {
    "scrolled": true
   },
   "outputs": [
    {
     "name": "stdout",
     "output_type": "stream",
     "text": [
      "+------------+--------------+-----+------------+-----------------+\n",
      "|       hotel|market_segment|count|cancel_count|cancelation_ratio|\n",
      "+------------+--------------+-----+------------+-----------------+\n",
      "|  City Hotel|      Aviation|  237|          52|           0.2194|\n",
      "|  City Hotel| Complementary|  542|          64|           0.1181|\n",
      "|  City Hotel|     Corporate| 2986|         641|           0.2147|\n",
      "|  City Hotel|        Direct| 6093|        1056|           0.1733|\n",
      "|  City Hotel|        Groups|13975|        9623|           0.6886|\n",
      "|  City Hotel| Offline TA/TO|16747|        7173|           0.4283|\n",
      "|  City Hotel|     Online TA|38748|       14491|            0.374|\n",
      "|  City Hotel|     Undefined|    2|           2|              1.0|\n",
      "|Resort Hotel| Complementary|  201|          33|           0.1642|\n",
      "|Resort Hotel|     Corporate| 2309|         351|            0.152|\n",
      "|Resort Hotel|        Direct| 6513|         878|           0.1348|\n",
      "|Resort Hotel|        Groups| 5836|        2474|           0.4239|\n",
      "|Resort Hotel| Offline TA/TO| 7472|        1138|           0.1523|\n",
      "|Resort Hotel|     Online TA|17729|        6248|           0.3524|\n",
      "+------------+--------------+-----+------------+-----------------+\n",
      "\n"
     ]
    }
   ],
   "source": [
    "column_list = ['hotel','market_segment']\n",
    "market_segment_df = cancelation_ratio(booking_df, column_list)\n",
    "market_segment_df.show()"
   ]
  },
  {
   "cell_type": "code",
   "execution_count": 130,
   "metadata": {
    "scrolled": true
   },
   "outputs": [
    {
     "name": "stdout",
     "output_type": "stream",
     "text": [
      "+------------+--------------+--------------------+-----+------------+-----------------+\n",
      "|       hotel|market_segment|distribution_channel|count|cancel_count|cancelation_ratio|\n",
      "+------------+--------------+--------------------+-----+------------+-----------------+\n",
      "|  City Hotel|      Aviation|           Corporate|  227|          51|           0.2247|\n",
      "|  City Hotel|      Aviation|               TA/TO|   10|           1|              0.1|\n",
      "|  City Hotel| Complementary|           Corporate|   69|          17|           0.2464|\n",
      "|  City Hotel| Complementary|              Direct|  437|          46|           0.1053|\n",
      "|  City Hotel| Complementary|               TA/TO|   36|           1|           0.0278|\n",
      "|  City Hotel|     Corporate|           Corporate| 2636|         544|           0.2064|\n",
      "|  City Hotel|     Corporate|              Direct|   56|           3|           0.0536|\n",
      "|  City Hotel|     Corporate|               TA/TO|  294|          94|           0.3197|\n",
      "|  City Hotel|        Direct|           Corporate|    6|           3|              0.5|\n",
      "|  City Hotel|        Direct|              Direct| 6048|        1051|           0.1738|\n",
      "|  City Hotel|        Direct|                 GDS|    1|           0|              0.0|\n",
      "|  City Hotel|        Direct|               TA/TO|   37|           1|            0.027|\n",
      "|  City Hotel|        Direct|           Undefined|    1|           1|              1.0|\n",
      "|  City Hotel|        Groups|           Corporate|  240|          54|            0.225|\n",
      "|  City Hotel|        Groups|              Direct|  177|         128|           0.7232|\n",
      "|  City Hotel|        Groups|               TA/TO|13558|        9441|           0.6963|\n",
      "|  City Hotel| Offline TA/TO|           Corporate|  198|         103|           0.5202|\n",
      "|  City Hotel| Offline TA/TO|              Direct|    6|           1|           0.1667|\n",
      "|  City Hotel| Offline TA/TO|                 GDS|   45|           8|           0.1778|\n",
      "|  City Hotel| Offline TA/TO|               TA/TO|16498|        7061|            0.428|\n",
      "|  City Hotel|     Online TA|           Corporate|   32|          14|           0.4375|\n",
      "|  City Hotel|     Online TA|              Direct|   56|           3|           0.0536|\n",
      "|  City Hotel|     Online TA|                 GDS|  147|          29|           0.1973|\n",
      "|  City Hotel|     Online TA|               TA/TO|38512|       14444|           0.3751|\n",
      "|  City Hotel|     Online TA|           Undefined|    1|           1|              1.0|\n",
      "|  City Hotel|     Undefined|           Undefined|    2|           2|              1.0|\n",
      "|Resort Hotel| Complementary|           Corporate|   20|           3|             0.15|\n",
      "|Resort Hotel| Complementary|              Direct|  139|          24|           0.1727|\n",
      "|Resort Hotel| Complementary|               TA/TO|   42|           6|           0.1429|\n",
      "|Resort Hotel|     Corporate|           Corporate| 2152|         334|           0.1552|\n",
      "|Resort Hotel|     Corporate|              Direct|  116|          16|           0.1379|\n",
      "|Resort Hotel|     Corporate|               TA/TO|   41|           1|           0.0244|\n",
      "|Resort Hotel|        Direct|           Corporate|   84|           7|           0.0833|\n",
      "|Resort Hotel|        Direct|              Direct| 6228|         862|           0.1384|\n",
      "|Resort Hotel|        Direct|               TA/TO|  200|           9|            0.045|\n",
      "|Resort Hotel|        Direct|           Undefined|    1|           0|              0.0|\n",
      "|Resort Hotel|        Groups|           Corporate|  988|         344|           0.3482|\n",
      "|Resort Hotel|        Groups|              Direct| 1295|         415|           0.3205|\n",
      "|Resort Hotel|        Groups|               TA/TO| 3553|        1715|           0.4827|\n",
      "|Resort Hotel| Offline TA/TO|           Corporate|   14|           0|              0.0|\n",
      "|Resort Hotel| Offline TA/TO|              Direct|   10|           2|              0.2|\n",
      "|Resort Hotel| Offline TA/TO|               TA/TO| 7448|        1136|           0.1525|\n",
      "|Resort Hotel|     Online TA|           Corporate|   11|           0|              0.0|\n",
      "|Resort Hotel|     Online TA|              Direct|   77|           6|           0.0779|\n",
      "|Resort Hotel|     Online TA|               TA/TO|17641|        6242|           0.3538|\n",
      "+------------+--------------+--------------------+-----+------------+-----------------+\n",
      "\n"
     ]
    }
   ],
   "source": [
    "column_list = ['hotel','market_segment', 'distribution_channel']\n",
    "market_segment_channel_df = cancelation_ratio(booking_df, column_list)\n",
    "market_segment_channel_df.show(100)"
   ]
  },
  {
   "cell_type": "markdown",
   "metadata": {},
   "source": [
    "Offline travel agents have lower cancellation rates for the resort hotel, while not so for the city hotel.\n",
    "\n",
    "The segmentation of Groups is bringing sizable orders for both hotels but also has a higher than average cancelation rate."
   ]
  },
  {
   "cell_type": "markdown",
   "metadata": {},
   "source": [
    "---"
   ]
  },
  {
   "cell_type": "code",
   "execution_count": 132,
   "metadata": {},
   "outputs": [
    {
     "name": "stdout",
     "output_type": "stream",
     "text": [
      "+-------+-----+------------+-----------------+\n",
      "|country|count|cancel_count|cancelation_ratio|\n",
      "+-------+-----+------------+-----------------+\n",
      "|    PRT|48590|       27519|           0.5664|\n",
      "|    AGO|  362|         205|           0.5663|\n",
      "|    CHN|  999|         462|           0.4625|\n",
      "|    MAR|  259|         109|           0.4208|\n",
      "|    KOR|  133|          55|           0.4135|\n",
      "|    TUR|  248|         102|           0.4113|\n",
      "|    LUX|  287|         109|           0.3798|\n",
      "|    RUS|  632|         239|           0.3782|\n",
      "|    BRA| 2224|         830|           0.3732|\n",
      "|    ITA| 3766|        1333|            0.354|\n",
      "|    HUN|  230|          77|           0.3348|\n",
      "|    NOR|  607|         181|           0.2982|\n",
      "|    GRC|  128|          35|           0.2734|\n",
      "|    ROU|  500|         134|            0.268|\n",
      "|    ESP| 8568|        2177|           0.2541|\n",
      "|    ISR|  669|         169|           0.2526|\n",
      "|    ARG|  214|          54|           0.2523|\n",
      "|    AUS|  426|         107|           0.2512|\n",
      "|    DNK|  435|         109|           0.2506|\n",
      "|    CHE| 1730|         428|           0.2474|\n",
      "+-------+-----+------------+-----------------+\n",
      "only showing top 20 rows\n",
      "\n"
     ]
    }
   ],
   "source": [
    "column_list = ['country']\n",
    "country_df = cancelation_ratio(booking_df, column_list)\n",
    "country_df.sort(col(\"cancelation_ratio\").desc()).where(col(\"count\") > 100).show()"
   ]
  },
  {
   "cell_type": "code",
   "execution_count": 133,
   "metadata": {},
   "outputs": [
    {
     "name": "stdout",
     "output_type": "stream",
     "text": [
      "+-------+-----+------------+-----------------+\n",
      "|country|count|cancel_count|cancelation_ratio|\n",
      "+-------+-----+------------+-----------------+\n",
      "|    PRT|30960|       20081|           0.6486|\n",
      "|    AGO|  338|         198|           0.5858|\n",
      "|    CHN|  865|         453|           0.5237|\n",
      "|    TUR|  225|          95|           0.4222|\n",
      "|    KOR|  124|          52|           0.4194|\n",
      "|    BRA| 1794|         729|           0.4064|\n",
      "|    RUS|  443|         178|           0.4018|\n",
      "|    LUX|  207|          83|            0.401|\n",
      "|    MAR|  184|          73|           0.3967|\n",
      "|    ITA| 3307|        1253|           0.3789|\n",
      "|    HUN|  183|          68|           0.3716|\n",
      "|    IRL| 1209|         400|           0.3309|\n",
      "|    NOR|  484|         158|           0.3264|\n",
      "|    ROU|  323|         102|           0.3158|\n",
      "|    POL|  586|         176|           0.3003|\n",
      "|    GBR| 5315|        1562|           0.2939|\n",
      "|    ESP| 4611|        1326|           0.2876|\n",
      "|    ARG|  157|          45|           0.2866|\n",
      "|    DNK|  370|         104|           0.2811|\n",
      "|    GRC|  118|          33|           0.2797|\n",
      "+-------+-----+------------+-----------------+\n",
      "only showing top 20 rows\n",
      "\n"
     ]
    }
   ],
   "source": [
    "column_list = ['country']\n",
    "city_country_df = cancelation_ratio(cityHotelDF, column_list)\n",
    "city_country_df.sort(col(\"cancelation_ratio\").desc()).where(col(\"count\") > 100).show()"
   ]
  },
  {
   "cell_type": "code",
   "execution_count": 134,
   "metadata": {
    "scrolled": true
   },
   "outputs": [
    {
     "name": "stdout",
     "output_type": "stream",
     "text": [
      "+-------+-----+------------+-----------------+\n",
      "|country|count|cancel_count|cancelation_ratio|\n",
      "+-------+-----+------------+-----------------+\n",
      "|    PRT|17630|        7438|           0.4219|\n",
      "|    RUS|  189|          61|           0.3228|\n",
      "|    CHE|  435|         112|           0.2575|\n",
      "|    SWE|  304|          73|           0.2401|\n",
      "|    BRA|  430|         101|           0.2349|\n",
      "|    ESP| 3957|         851|           0.2151|\n",
      "|    IRL| 2166|         432|           0.1994|\n",
      "|    NOR|  123|          23|            0.187|\n",
      "|    ROU|  177|          32|           0.1808|\n",
      "|    ITA|  459|          80|           0.1743|\n",
      "|    AUT|  210|          34|           0.1619|\n",
      "|    USA|  479|          72|           0.1503|\n",
      "|     CN|  710|          96|           0.1352|\n",
      "|    BEL|  448|          59|           0.1317|\n",
      "|    FRA| 1611|         211|            0.131|\n",
      "|    GBR| 6814|         891|           0.1308|\n",
      "|    DEU| 1203|         146|           0.1214|\n",
      "|    POL|  333|          39|           0.1171|\n",
      "|    NLD|  514|          56|           0.1089|\n",
      "|    FIN|  151|          16|            0.106|\n",
      "+-------+-----+------------+-----------------+\n",
      "only showing top 20 rows\n",
      "\n"
     ]
    }
   ],
   "source": [
    "column_list = ['country']\n",
    "resort_country_df = cancelation_ratio(resortHotelDF, column_list)\n",
    "resort_country_df.sort(col(\"cancelation_ratio\").desc()).where(col(\"count\") > 100).show()"
   ]
  },
  {
   "cell_type": "markdown",
   "metadata": {},
   "source": [
    "---"
   ]
  },
  {
   "cell_type": "code",
   "execution_count": 135,
   "metadata": {},
   "outputs": [
    {
     "name": "stdout",
     "output_type": "stream",
     "text": [
      "+------------+---------+-----+------------+-----------------+\n",
      "|       hotel|     meal|count|cancel_count|cancelation_ratio|\n",
      "+------------+---------+-----+------------+-----------------+\n",
      "|  City Hotel|       BB|62305|       26667|            0.428|\n",
      "|  City Hotel|       FB|   44|          35|           0.7955|\n",
      "|  City Hotel|       HB| 6417|        2437|           0.3798|\n",
      "|  City Hotel|       SC|10564|        3963|           0.3751|\n",
      "|Resort Hotel|       BB|30005|        7843|           0.2614|\n",
      "|Resort Hotel|       FB|  754|         443|           0.5875|\n",
      "|Resort Hotel|       HB| 8046|        2547|           0.3166|\n",
      "|Resort Hotel|       SC|   86|           3|           0.0349|\n",
      "|Resort Hotel|Undefined| 1169|         286|           0.2447|\n",
      "+------------+---------+-----+------------+-----------------+\n",
      "\n"
     ]
    }
   ],
   "source": [
    "column_list = ['hotel','meal']\n",
    "meal_df = cancelation_ratio(booking_df, column_list)\n",
    "meal_df.show()"
   ]
  },
  {
   "cell_type": "markdown",
   "metadata": {},
   "source": [
    "Guests who've booked full board have been more likely to cancel."
   ]
  },
  {
   "cell_type": "markdown",
   "metadata": {},
   "source": [
    "---"
   ]
  },
  {
   "cell_type": "code",
   "execution_count": 136,
   "metadata": {},
   "outputs": [
    {
     "name": "stdout",
     "output_type": "stream",
     "text": [
      "+------------+-------------+-----+------------+-----------------+\n",
      "|       hotel|lead_time_cat|count|cancel_count|cancelation_ratio|\n",
      "+------------+-------------+-----+------------+-----------------+\n",
      "|  City Hotel|  1. same_day| 3109|         273|           0.0878|\n",
      "|  City Hotel|     2. short| 7699|        1046|           0.1359|\n",
      "|  City Hotel|    3. medium|33351|       12180|           0.3652|\n",
      "|  City Hotel|      4. long|18223|        8746|           0.4799|\n",
      "|  City Hotel|5. super_long|16948|       10857|           0.6406|\n",
      "|Resort Hotel|  1. same_day| 3236|         157|           0.0485|\n",
      "|Resort Hotel|     2. short| 5702|         426|           0.0747|\n",
      "|Resort Hotel|    3. medium|15162|        4244|           0.2799|\n",
      "|Resort Hotel|      4. long| 8216|        3075|           0.3743|\n",
      "|Resort Hotel|5. super_long| 7744|        3220|           0.4158|\n",
      "+------------+-------------+-----+------------+-----------------+\n",
      "\n"
     ]
    }
   ],
   "source": [
    "column_list = ['hotel','lead_time_cat']\n",
    "hotel_lead_time_df = cancelation_ratio(booking_df, column_list)\n",
    "hotel_lead_time_df.show()"
   ]
  },
  {
   "cell_type": "markdown",
   "metadata": {},
   "source": [
    "The longer the lead time is, the more likely the order is to be canceled, which is very natural. \n",
    "\n",
    "However, if the cancelation gap is large enough, there are high chances that the hotel could resell this room."
   ]
  },
  {
   "cell_type": "markdown",
   "metadata": {},
   "source": [
    "---"
   ]
  },
  {
   "cell_type": "code",
   "execution_count": 137,
   "metadata": {
    "scrolled": false
   },
   "outputs": [
    {
     "name": "stdout",
     "output_type": "stream",
     "text": [
      "+------------+------------------+-----+------------+-----------------+\n",
      "|       hotel|booking_change_cat|count|cancel_count|cancelation_ratio|\n",
      "+------------+------------------+-----+------------+-----------------+\n",
      "|  City Hotel|           1. none|69062|       31423|            0.455|\n",
      "|  City Hotel|            2. one|  313|          16|           0.0511|\n",
      "|  City Hotel|           3. some|  626|          35|           0.0559|\n",
      "|  City Hotel|           4. many| 9329|        1628|           0.1745|\n",
      "|Resort Hotel|           1. none|32252|        9968|           0.3091|\n",
      "|Resort Hotel|            2. one|  241|          10|           0.0415|\n",
      "|Resort Hotel|           3. some|  428|          22|           0.0514|\n",
      "|Resort Hotel|           4. many| 7139|        1122|           0.1572|\n",
      "+------------+------------------+-----+------------+-----------------+\n",
      "\n"
     ]
    }
   ],
   "source": [
    "column_list = ['hotel','booking_change_cat']\n",
    "hotel_booking_changes_df = cancelation_ratio(booking_df, column_list)\n",
    "hotel_booking_changes_df.show()"
   ]
  },
  {
   "cell_type": "markdown",
   "metadata": {},
   "source": [
    "We've found out if the guests made just 1 or a few changes to the booking, it has a much lower cancelation rate.\n",
    "\n",
    "Whereas if the guests made either no or many change(s), they are more likely to cancel. \n",
    "\n",
    "We could suggest the hotels to contact the guests beforehand (e.g. 2 weeks before) if there's any changes they'd like to do, maybe those who want to cancel would then cancel, and hence give the hotel more time to resell the room."
   ]
  },
  {
   "cell_type": "code",
   "execution_count": 146,
   "metadata": {
    "scrolled": false
   },
   "outputs": [
    {
     "name": "stdout",
     "output_type": "stream",
     "text": [
      "+--------------+----------------+-----+------------+-----------------+\n",
      "|    guest_size|         adr_cat|count|cancel_count|cancelation_ratio|\n",
      "+--------------+----------------+-----+------------+-----------------+\n",
      "|       1. solo|1. below_average| 5456|        1506|            0.276|\n",
      "|       1. solo|      2. average| 7566|        2770|           0.3661|\n",
      "|       1. solo|3. above_average| 2546|        1096|           0.4305|\n",
      "|     2. couple|1. below_average|14387|        7512|           0.5221|\n",
      "|     2. couple|      2. average|28783|       12216|           0.4244|\n",
      "|     2. couple|3. above_average|10765|        4491|           0.4172|\n",
      "|3. small_group|1. below_average|  309|          52|           0.1683|\n",
      "|3. small_group|      2. average| 2202|         668|           0.3034|\n",
      "|3. small_group|3. above_average| 7147|        2768|           0.3873|\n",
      "|  4. big_group|1. below_average|  157|          23|           0.1465|\n",
      "|  4. big_group|      2. average|    8|           0|              0.0|\n",
      "|  4. big_group|3. above_average|    4|           0|              0.0|\n",
      "+--------------+----------------+-----+------------+-----------------+\n",
      "\n"
     ]
    }
   ],
   "source": [
    "column_list = ['guest_size','adr_cat']\n",
    "city_size_adr_df = cancelation_ratio(cityHotelDF, column_list)\n",
    "city_size_adr_df.show()"
   ]
  },
  {
   "cell_type": "code",
   "execution_count": 139,
   "metadata": {},
   "outputs": [
    {
     "name": "stdout",
     "output_type": "stream",
     "text": [
      "+--------------+-------------+----------------+-----+------------+-----------------+\n",
      "|    guest_size|lead_time_cat|         adr_cat|count|cancel_count|cancelation_ratio|\n",
      "+--------------+-------------+----------------+-----+------------+-----------------+\n",
      "|       1. solo|  1. same_day|1. below_average|  490|          37|           0.0755|\n",
      "|       1. solo|  1. same_day|      2. average|  447|          21|            0.047|\n",
      "|       1. solo|  1. same_day|3. above_average|  197|          19|           0.0964|\n",
      "|       1. solo|     2. short|1. below_average| 1372|         186|           0.1356|\n",
      "|       1. solo|     2. short|      2. average| 1273|         148|           0.1163|\n",
      "|       1. solo|     2. short|3. above_average|  433|          66|           0.1524|\n",
      "|       1. solo|    3. medium|1. below_average| 2068|         553|           0.2674|\n",
      "|       1. solo|    3. medium|      2. average| 3253|        1365|           0.4196|\n",
      "|       1. solo|    3. medium|3. above_average| 1185|         389|           0.3283|\n",
      "|       1. solo|      4. long|1. below_average|  967|         458|           0.4736|\n",
      "|       1. solo|      4. long|      2. average| 1587|         890|           0.5608|\n",
      "|       1. solo|      4. long|3. above_average|  554|         482|             0.87|\n",
      "|       1. solo|5. super_long|1. below_average|  559|         272|           0.4866|\n",
      "|       1. solo|5. super_long|      2. average| 1006|         346|           0.3439|\n",
      "|       1. solo|5. super_long|3. above_average|  177|         140|            0.791|\n",
      "|     2. couple|  1. same_day|1. below_average|  425|          47|           0.1106|\n",
      "|     2. couple|  1. same_day|      2. average|  741|          84|           0.1134|\n",
      "|     2. couple|  1. same_day|3. above_average|  464|          33|           0.0711|\n",
      "|     2. couple|     2. short|1. below_average|  751|         101|           0.1345|\n",
      "|     2. couple|     2. short|      2. average| 1851|         266|           0.1437|\n",
      "|     2. couple|     2. short|3. above_average| 1163|         174|           0.1496|\n",
      "|     2. couple|    3. medium|1. below_average| 5617|        1882|           0.3351|\n",
      "|     2. couple|    3. medium|      2. average|11163|        4112|           0.3684|\n",
      "|     2. couple|    3. medium|3. above_average| 5357|        2169|           0.4049|\n",
      "|     2. couple|      4. long|1. below_average| 2213|         980|           0.4428|\n",
      "|     2. couple|      4. long|      2. average| 7564|        3498|           0.4625|\n",
      "|     2. couple|      4. long|3. above_average| 2644|        1341|           0.5072|\n",
      "|     2. couple|5. super_long|1. below_average| 5381|        4502|           0.8366|\n",
      "|     2. couple|5. super_long|      2. average| 7464|        4256|           0.5702|\n",
      "|     2. couple|5. super_long|3. above_average| 1137|         774|           0.6807|\n",
      "|3. small_group|  1. same_day|1. below_average|   31|           0|              0.0|\n",
      "|3. small_group|  1. same_day|      2. average|   58|           4|            0.069|\n",
      "|3. small_group|  1. same_day|3. above_average|  178|          17|           0.0955|\n",
      "|3. small_group|     2. short|1. below_average|   58|           8|           0.1379|\n",
      "|3. small_group|     2. short|      2. average|  175|          17|           0.0971|\n",
      "|3. small_group|     2. short|3. above_average|  596|          76|           0.1275|\n",
      "|3. small_group|    3. medium|1. below_average|  160|          32|              0.2|\n",
      "|3. small_group|    3. medium|      2. average| 1021|         289|           0.2831|\n",
      "|3. small_group|    3. medium|3. above_average| 3491|        1389|           0.3979|\n",
      "|3. small_group|      4. long|1. below_average|   36|           4|           0.1111|\n",
      "|3. small_group|      4. long|      2. average|  604|         219|           0.3626|\n",
      "|3. small_group|      4. long|3. above_average| 2037|         872|           0.4281|\n",
      "|3. small_group|5. super_long|1. below_average|   24|           8|           0.3333|\n",
      "|3. small_group|5. super_long|      2. average|  344|         139|           0.4041|\n",
      "|3. small_group|5. super_long|3. above_average|  845|         414|           0.4899|\n",
      "|  4. big_group|  1. same_day|1. below_average|   78|          11|            0.141|\n",
      "|  4. big_group|     2. short|1. below_average|   26|           4|           0.1538|\n",
      "|  4. big_group|     2. short|      2. average|    1|           0|              0.0|\n",
      "|  4. big_group|    3. medium|1. below_average|   26|           0|              0.0|\n",
      "|  4. big_group|    3. medium|      2. average|    6|           0|              0.0|\n",
      "+--------------+-------------+----------------+-----+------------+-----------------+\n",
      "only showing top 50 rows\n",
      "\n"
     ]
    }
   ],
   "source": [
    "column_list = ['guest_size','lead_time_cat','adr_cat']\n",
    "city_size_adr_df = cancelation_ratio(cityHotelDF, column_list)\n",
    "city_size_adr_df.show(50)"
   ]
  },
  {
   "cell_type": "code",
   "execution_count": 140,
   "metadata": {
    "scrolled": true
   },
   "outputs": [
    {
     "name": "stdout",
     "output_type": "stream",
     "text": [
      "+--------------+----------------+-----+------------+-----------------+\n",
      "|    guest_size|         adr_cat|count|cancel_count|cancelation_ratio|\n",
      "+--------------+----------------+-----+------------+-----------------+\n",
      "|       1. solo|1. below_average| 3984|         577|           0.1448|\n",
      "|       1. solo|      2. average| 2669|         494|           0.1851|\n",
      "|       1. solo|3. above_average|  360|         112|           0.3111|\n",
      "|     2. couple|1. below_average| 5480|        1456|           0.2657|\n",
      "|     2. couple|      2. average|16180|        4747|           0.2934|\n",
      "|     2. couple|3. above_average| 6456|        2150|            0.333|\n",
      "|3. small_group|1. below_average|  233|          34|           0.1459|\n",
      "|3. small_group|      2. average| 1501|         387|           0.2578|\n",
      "|3. small_group|3. above_average| 3169|        1148|           0.3623|\n",
      "|  4. big_group|1. below_average|   27|          16|           0.5926|\n",
      "|  4. big_group|3. above_average|    1|           1|              1.0|\n",
      "+--------------+----------------+-----+------------+-----------------+\n",
      "\n"
     ]
    }
   ],
   "source": [
    "column_list = ['guest_size','adr_cat']\n",
    "resort_size_adr_df = cancelation_ratio(resortHotelDF, column_list)\n",
    "resort_size_adr_df.show()"
   ]
  },
  {
   "cell_type": "markdown",
   "metadata": {},
   "source": [
    "For the resort hotel, the higher the average daily rate is, the more likely the order will be cancelled. However, for the city hotel in the couple segment, it is not the case. \n",
    "\n",
    "The super long lead time combination with a below average has a cancellation for 84%, which is much higher than the baseline (41%)"
   ]
  },
  {
   "cell_type": "code",
   "execution_count": 141,
   "metadata": {
    "scrolled": false
   },
   "outputs": [
    {
     "name": "stdout",
     "output_type": "stream",
     "text": [
      "+------------+------------+-----+------------+-----------------+\n",
      "|       hotel|deposit_type|count|cancel_count|cancelation_ratio|\n",
      "+------------+------------+-----+------------+-----------------+\n",
      "|  City Hotel|  No Deposit|66442|       20244|           0.3047|\n",
      "|  City Hotel|  Non Refund|12868|       12844|           0.9981|\n",
      "|  City Hotel|  Refundable|   20|          14|              0.7|\n",
      "|Resort Hotel|  No Deposit|38199|        9450|           0.2474|\n",
      "|Resort Hotel|  Non Refund| 1719|        1650|           0.9599|\n",
      "|Resort Hotel|  Refundable|  142|          22|           0.1549|\n",
      "+------------+------------+-----+------------+-----------------+\n",
      "\n"
     ]
    }
   ],
   "source": [
    "column_list = ['hotel','deposit_type']\n",
    "hotel_deposit_df = cancelation_ratio(booking_df, column_list)\n",
    "hotel_deposit_df.show()"
   ]
  },
  {
   "cell_type": "code",
   "execution_count": 142,
   "metadata": {},
   "outputs": [
    {
     "name": "stdout",
     "output_type": "stream",
     "text": [
      "+------------+------------+--------+-----+------------+-----------------+\n",
      "|       hotel|deposit_type|is_agent|count|cancel_count|cancelation_ratio|\n",
      "+------------+------------+--------+-----+------------+-----------------+\n",
      "|  City Hotel|  No Deposit|       0| 6574|        1076|           0.1637|\n",
      "|  City Hotel|  No Deposit|       1|59868|       19168|           0.3202|\n",
      "|  City Hotel|  Non Refund|       0| 1554|        1533|           0.9865|\n",
      "|  City Hotel|  Non Refund|       1|11314|       11311|           0.9997|\n",
      "|  City Hotel|  Refundable|       0|    3|           0|              0.0|\n",
      "|  City Hotel|  Refundable|       1|   17|          14|           0.8235|\n",
      "|Resort Hotel|  No Deposit|       0| 7601|         930|           0.1224|\n",
      "|Resort Hotel|  No Deposit|       1|30598|        8520|           0.2784|\n",
      "|Resort Hotel|  Non Refund|       0|  497|         479|           0.9638|\n",
      "|Resort Hotel|  Non Refund|       1| 1222|        1171|           0.9583|\n",
      "|Resort Hotel|  Refundable|       0|  111|          12|           0.1081|\n",
      "|Resort Hotel|  Refundable|       1|   31|          10|           0.3226|\n",
      "+------------+------------+--------+-----+------------+-----------------+\n",
      "\n"
     ]
    }
   ],
   "source": [
    "column_list = ['hotel','deposit_type','is_agent']\n",
    "hotel_deposit_df = cancelation_ratio(booking_df, column_list)\n",
    "hotel_deposit_df.show()"
   ]
  },
  {
   "cell_type": "code",
   "execution_count": 143,
   "metadata": {
    "scrolled": true
   },
   "outputs": [
    {
     "name": "stdout",
     "output_type": "stream",
     "text": [
      "+------------+------------+---------------+-----+------------+-----------------+\n",
      "|       hotel|deposit_type|stay_length_cat|count|cancel_count|cancelation_ratio|\n",
      "+------------+------------+---------------+-----+------------+-----------------+\n",
      "|  City Hotel|  No Deposit|         1. one|12096|        2938|           0.2429|\n",
      "|  City Hotel|  No Deposit|         2. two|15362|        4376|           0.2849|\n",
      "|  City Hotel|  No Deposit|       3. three|17368|        5480|           0.3155|\n",
      "|  City Hotel|  No Deposit|      4. medium|18029|        5994|           0.3325|\n",
      "|  City Hotel|  No Deposit|        5. long| 3587|        1456|           0.4059|\n",
      "|  City Hotel|  Non Refund|         1. one| 1173|        1165|           0.9932|\n",
      "|  City Hotel|  Non Refund|         2. two| 6059|        6054|           0.9992|\n",
      "|  City Hotel|  Non Refund|       3. three| 4009|        4004|           0.9988|\n",
      "|  City Hotel|  Non Refund|      4. medium| 1579|        1573|           0.9962|\n",
      "|  City Hotel|  Non Refund|        5. long|   48|          48|              1.0|\n",
      "|  City Hotel|  Refundable|         1. one|    3|           0|              0.0|\n",
      "|  City Hotel|  Refundable|         2. two|    5|           4|              0.8|\n",
      "|  City Hotel|  Refundable|       3. three|    4|           2|              0.5|\n",
      "|  City Hotel|  Refundable|      4. medium|    5|           5|              1.0|\n",
      "|  City Hotel|  Refundable|        5. long|    3|           3|              1.0|\n",
      "|Resort Hotel|  No Deposit|         1. one| 7537|         992|           0.1316|\n",
      "|Resort Hotel|  No Deposit|         2. two| 5845|        1410|           0.2412|\n",
      "|Resort Hotel|  No Deposit|       3. three| 5138|        1341|            0.261|\n",
      "|Resort Hotel|  No Deposit|      4. medium| 9030|        2653|           0.2938|\n",
      "|Resort Hotel|  No Deposit|        5. long|10649|        3054|           0.2868|\n",
      "+------------+------------+---------------+-----+------------+-----------------+\n",
      "only showing top 20 rows\n",
      "\n"
     ]
    }
   ],
   "source": [
    "column_list = ['hotel','deposit_type', 'stay_length_cat']\n",
    "hotel_deposit_df = cancelation_ratio(booking_df, column_list)\n",
    "hotel_deposit_df.show()"
   ]
  },
  {
   "cell_type": "markdown",
   "metadata": {},
   "source": [
    "For the non-refundable orders, curiously for both hotels, have a very high cancellation rate (99% for city hotels and 95% for resort hotels).\n",
    "\n",
    "Further attributes were considered but cannot seem to find a confounding factor. "
   ]
  },
  {
   "cell_type": "markdown",
   "metadata": {},
   "source": [
    "---"
   ]
  },
  {
   "cell_type": "code",
   "execution_count": 144,
   "metadata": {
    "scrolled": true
   },
   "outputs": [
    {
     "name": "stdout",
     "output_type": "stream",
     "text": [
      "+------------+--------------+-----+------------+-----------------+\n",
      "|       hotel|    season_cat|count|cancel_count|cancelation_ratio|\n",
      "+------------+--------------+-----+------------+-----------------+\n",
      "|  City Hotel|1. high season|32908|       13829|           0.4202|\n",
      "|  City Hotel|      2. other|29232|       12489|           0.4272|\n",
      "|  City Hotel| 3. low season|17190|        6784|           0.3946|\n",
      "|Resort Hotel|1. high season|16581|        5075|           0.3061|\n",
      "|Resort Hotel|      2. other|13098|        3835|           0.2928|\n",
      "|Resort Hotel| 3. low season|10381|        2212|           0.2131|\n",
      "+------------+--------------+-----+------------+-----------------+\n",
      "\n"
     ]
    }
   ],
   "source": [
    "column_list = ['hotel','season_cat']\n",
    "hotel_season_df = cancelation_ratio(booking_df, column_list)\n",
    "hotel_season_df.show()"
   ]
  },
  {
   "cell_type": "markdown",
   "metadata": {},
   "source": [
    "For both hotels, orders arriving in the low season (month of February, November, December and January) have lower cancellation rates, especially more apparent for the resort hotel."
   ]
  },
  {
   "cell_type": "markdown",
   "metadata": {},
   "source": [
    "---"
   ]
  },
  {
   "cell_type": "code",
   "execution_count": 145,
   "metadata": {
    "scrolled": true
   },
   "outputs": [
    {
     "name": "stdout",
     "output_type": "stream",
     "text": [
      "+------------+----------------------+-----+------------+-----------------+\n",
      "|       hotel|previous_cancellations|count|cancel_count|cancelation_ratio|\n",
      "+------------+----------------------+-----+------------+-----------------+\n",
      "|  City Hotel|                     0|73941|       28084|           0.3798|\n",
      "|  City Hotel|                     1| 5155|        4964|           0.9629|\n",
      "|  City Hotel|                     2|   72|          13|           0.1806|\n",
      "|  City Hotel|                     3|   51|           7|           0.1373|\n",
      "|  City Hotel|                     4|   25|           4|             0.16|\n",
      "|  City Hotel|                     5|   16|           1|           0.0625|\n",
      "|  City Hotel|                     6|   22|           7|           0.3182|\n",
      "|  City Hotel|                    11|   35|          10|           0.2857|\n",
      "|  City Hotel|                    13|   12|          11|           0.9167|\n",
      "|  City Hotel|                    21|    1|           1|              1.0|\n",
      "|Resort Hotel|                     0|38965|       10198|           0.2617|\n",
      "|Resort Hotel|                     1|  896|         750|           0.8371|\n",
      "|Resort Hotel|                     2|   44|          25|           0.5682|\n",
      "|Resort Hotel|                     3|   14|          13|           0.9286|\n",
      "|Resort Hotel|                     4|    6|           3|              0.5|\n",
      "|Resort Hotel|                     5|    3|           1|           0.3333|\n",
      "|Resort Hotel|                    14|   14|          14|              1.0|\n",
      "|Resort Hotel|                    19|   19|          19|              1.0|\n",
      "|Resort Hotel|                    24|   48|          48|              1.0|\n",
      "|Resort Hotel|                    25|   25|          25|              1.0|\n",
      "+------------+----------------------+-----+------------+-----------------+\n",
      "only showing top 20 rows\n",
      "\n"
     ]
    }
   ],
   "source": [
    "column_list = ['hotel','previous_cancellations']\n",
    "hotel_prev_cancel_df = cancelation_ratio(booking_df, column_list)\n",
    "hotel_prev_cancel_df.show()"
   ]
  },
  {
   "cell_type": "markdown",
   "metadata": {},
   "source": [
    "Those who have canceled previously one time are very likely to cancel again for both hotels. \n",
    "\n",
    "However for the city hotel, those who have canceled 2 or 3 times are actually less likely to cancel compared to a new guest. "
   ]
  }
 ],
 "metadata": {
  "kernelspec": {
   "display_name": "Python 3",
   "language": "python",
   "name": "python3"
  },
  "language_info": {
   "codemirror_mode": {
    "name": "ipython",
    "version": 3
   },
   "file_extension": ".py",
   "mimetype": "text/x-python",
   "name": "python",
   "nbconvert_exporter": "python",
   "pygments_lexer": "ipython3",
   "version": "3.7.3"
  }
 },
 "nbformat": 4,
 "nbformat_minor": 4
}
